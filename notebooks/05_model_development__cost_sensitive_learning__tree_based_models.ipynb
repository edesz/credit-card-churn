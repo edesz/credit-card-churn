{
 "cells": [
  {
   "cell_type": "markdown",
   "id": "887edcc7-92da-45d5-b7e3-883a6ed602d3",
   "metadata": {},
   "source": [
    "# Tree-Based Model Cost-Based Learning"
   ]
  },
  {
   "cell_type": "code",
   "execution_count": 1,
   "id": "a682cc59-731b-4267-aaec-99a8f65b91bf",
   "metadata": {},
   "outputs": [],
   "source": [
    "import os\n",
    "import tempfile\n",
    "from datetime import datetime\n",
    "from io import BytesIO, StringIO\n",
    "from pathlib import Path\n",
    "\n",
    "import boto3\n",
    "import botocore.exceptions\n",
    "import matplotlib.pyplot as plt\n",
    "import matplotlib.ticker as ticker\n",
    "import numpy as np\n",
    "import pandas as pd\n",
    "import sklearn.ensemble as skens\n",
    "import sklearn.metrics as mtr\n",
    "import sklearn.model_selection as mds\n",
    "import sklearn.preprocessing as pp\n",
    "import xgboost as xgb\n",
    "from dotenv import load_dotenv\n",
    "from sklearn.compose import ColumnTransformer\n",
    "from sklearn.inspection import permutation_importance\n",
    "from sklearn.linear_model import LogisticRegression\n",
    "from sklearn.pipeline import Pipeline\n",
    "import sklearn.utils as skut"
   ]
  },
  {
   "cell_type": "code",
   "execution_count": 2,
   "id": "882d5c24-1a81-497f-b2e8-f2cf48211ef8",
   "metadata": {},
   "outputs": [],
   "source": [
    "PROJ_ROOT = Path.cwd().parent"
   ]
  },
  {
   "cell_type": "code",
   "execution_count": 3,
   "id": "4b8039ed-f79e-4a4a-82fc-82fbf2ad768c",
   "metadata": {},
   "outputs": [],
   "source": [
    "assert load_dotenv(dotenv_path=PROJ_ROOT.parent / '.env')"
   ]
  },
  {
   "cell_type": "code",
   "execution_count": 4,
   "id": "e30cf8dc-4113-4c5e-ae92-2d00f0fb7e33",
   "metadata": {},
   "outputs": [],
   "source": [
    "import cc_churn.visualization as vzu\n",
    "from cc_churn.evaluation import evaluate_model\n",
    "from cc_churn.scoring import get_scorers\n",
    "from cc_churn.tuning import tune_threshold_cv"
   ]
  },
  {
   "cell_type": "markdown",
   "id": "4f49ff64-2063-4127-9341-af7ebcada80a",
   "metadata": {},
   "source": [
    "## About"
   ]
  },
  {
   "cell_type": "markdown",
   "id": "373cfb0b-5a68-407b-ad89-405cfec7604f",
   "metadata": {},
   "source": [
    "Machine Learning (ML) model training using tree-based models.\n",
    "\n",
    "### Outputs\n",
    "\n",
    "Same as in `04_model_development__cost_sensitive_learning__linear_models`."
   ]
  },
  {
   "cell_type": "markdown",
   "id": "dfc13b99-c54a-4a07-895b-08a48b8bed18",
   "metadata": {},
   "source": [
    "## User Inputs"
   ]
  },
  {
   "cell_type": "code",
   "execution_count": 5,
   "id": "cda13b4c-deff-4f06-a340-aa81d669f68b",
   "metadata": {},
   "outputs": [],
   "source": [
    "# R2 data bucket details\n",
    "bucket_name = 'cc-churn-splits'\n",
    "# # name of train data key (file) in private R2 bucket\n",
    "r2_key_train = 'train_data.parquet.gzip'\n",
    "# # name of validation data key (file) in private R2 bucket\n",
    "r2_key_val = 'validation_data.parquet.gzip'\n",
    "# # name of test data key (file) in private R2 bucket\n",
    "r2_key_test = 'test_data.parquet.gzip'\n",
    "\n",
    "# datatypes for categorical columns\n",
    "dtypes_categoricals = {\n",
    "    \"gender\": 'string[pyarrow]',\n",
    "    \"marital_status\": 'string[pyarrow]',\n",
    "    \"income_category\": 'string[pyarrow]',\n",
    "    \"card_category\": 'string[pyarrow]',\n",
    "    \"education_level\": 'string[pyarrow]',\n",
    "}\n",
    "\n",
    "# EDA\n",
    "threshold_correlation = 0.55\n",
    "\n",
    "# model development\n",
    "# # model validation\n",
    "n_cv_folds = 5\n",
    "primary_metric_val = 'prauc'\n",
    "metrics_list_val = [primary_metric_val, 'f2', 'recall', 'rocauc']\n",
    "# # model evaluation\n",
    "primary_metric_eval = 'f2'\n",
    "metrics_list_eval = [primary_metric_eval, 'recall']\n",
    "threshold_overfit = 5\n",
    "\n",
    "label = 'is_churned'\n",
    "\n",
    "# costs\n",
    "# # revenue from transactions (bank earns #% of transaction volume)\n",
    "interchange_rate = 0.02\n",
    "# # revenue from revolving balance (~20% interest)\n",
    "apr = 0.18\n",
    "# # fee revenue from credit card exposure (modeled from card type)\n",
    "card_fees = {\"Blue\": 0, \"Silver\": 50, \"Gold\": 100, \"Platinum\": 200}\n",
    "tenure_years = 3\n",
    "discount = 0.9\n",
    "# # percentage of churners who can be convinced to stay (i.e. success rate\n",
    "# # of saving a churning customer)\n",
    "success_rate = 0.40\n",
    "# # cost of intervention to get a single customer to not churn (discounts,\n",
    "# # call center time, retention offers, etc.)\n",
    "intervention_cost = 50\n",
    "\n",
    "multiplier = (1 - discount**tenure_years) / (1 - discount)"
   ]
  },
  {
   "cell_type": "code",
   "execution_count": 6,
   "id": "9601c92a-b2f9-4958-aa0a-b8547c98c3cb",
   "metadata": {},
   "outputs": [],
   "source": [
    "account_id = os.getenv('ACCOUNT_ID')\n",
    "access_key_id = os.getenv('ACCESS_KEY_ID_USER2')\n",
    "secret_access_key = os.getenv('SECRET_ACCESS_KEY_USER2')\n",
    "\n",
    "scorers_val = get_scorers(metrics_list_val)\n",
    "scorers_eval = get_scorers(metrics_list_eval)\n",
    "\n",
    "s3_client = boto3.client(\n",
    "    's3',\n",
    "    endpoint_url=f'https://{account_id}.r2.cloudflarestorage.com',\n",
    "    aws_access_key_id=access_key_id,\n",
    "    aws_secret_access_key=secret_access_key,\n",
    "    region_name='auto'\n",
    ")"
   ]
  },
  {
   "cell_type": "code",
   "execution_count": 7,
   "id": "eb86d050-2327-4e4f-bc5e-030cb7e77736",
   "metadata": {},
   "outputs": [],
   "source": [
    "def pandas_read_parquet_r2(bucket_name, r2_key):\n",
    "    \"\"\"Read parquet file from private R2 bucket.\"\"\"\n",
    "    s3_object = s3_client.get_object(Bucket=bucket_name, Key=r2_key)\n",
    "    df = pd.read_parquet(\n",
    "        BytesIO(s3_object['Body'].read()), dtype_backend='pyarrow'\n",
    "    )\n",
    "    return df\n",
    "\n",
    "\n",
    "def export_df_to_r2(df, bucket_name, r2_key):\n",
    "    \"\"\"Export DataFrame to file in private R2 bucket, if not present.\"\"\"\n",
    "    try:\n",
    "        s3_client.head_object(Bucket=bucket_name, Key=r2_key)\n",
    "        print(f\"Key {r2_key} already exists in bucket {bucket_name}\")\n",
    "    except botocore.exceptions.ClientError as e:\n",
    "        if e.response[\"Error\"][\"Code\"] == \"404\":\n",
    "            print(f\"Key {r2_key} does not exist in bucket {bucket_name}\")\n",
    "            buffer = BytesIO()\n",
    "            df.to_parquet(\n",
    "                buffer,\n",
    "                index=False,\n",
    "                engine='pyarrow',\n",
    "                compression='gzip',\n",
    "            )\n",
    "            response = s3_client.put_object(\n",
    "                Bucket=bucket_name, Key=r2_key, Body=buffer.getvalue()\n",
    "            )\n",
    "            assert response['ResponseMetadata']['HTTPStatusCode'] == 200\n",
    "            print(f\"Exported {len(df):,} rows to key: {r2_key}\")\n",
    "        elif e.response[\"Error\"][\"Code\"] == \"403\":\n",
    "            print(f\"Access denied to bucket {bucket_name} or key {r2_key}\")\n",
    "        else:\n",
    "            print(f\"An unexpected error occurred: {e}\")"
   ]
  },
  {
   "cell_type": "markdown",
   "id": "e81219fe-914c-4225-aa53-1bc4d13099cb",
   "metadata": {},
   "source": [
    "## Load Data"
   ]
  },
  {
   "cell_type": "markdown",
   "id": "99ec896d-1d70-4ca0-ab67-8be61c45aa2f",
   "metadata": {},
   "source": [
    "### Data for Model Validation"
   ]
  },
  {
   "cell_type": "markdown",
   "id": "0fcbe1e7-f31e-42d2-b6cc-197b55affe5d",
   "metadata": {},
   "source": [
    "Load the training data"
   ]
  },
  {
   "cell_type": "code",
   "execution_count": null,
   "id": "d957af67-708f-43a8-9756-73887bb49866",
   "metadata": {},
   "outputs": [],
   "source": [
    "%%time\n",
    "df_train = (\n",
    "    pandas_read_parquet_r2(bucket_name, r2_key_train)\n",
    "    .astype(dtypes_categoricals)\n",
    ")\n",
    "print(f\"Loaded {len(df_train):,} rows of training data\")\n",
    "with pd.option_context('display.max_columns', None):\n",
    "    display(df_train.head())"
   ]
  },
  {
   "cell_type": "markdown",
   "id": "14afbf8c-b2a8-45bd-82d8-c809c0b7acfc",
   "metadata": {},
   "source": [
    "### Data for Model Evaluation"
   ]
  },
  {
   "cell_type": "markdown",
   "id": "1c8af0a8-18f6-447f-b80f-c740748fa75f",
   "metadata": {},
   "source": [
    "Load the validation data"
   ]
  },
  {
   "cell_type": "code",
   "execution_count": null,
   "id": "a0479976-7888-4068-891c-b71e6532ba5f",
   "metadata": {},
   "outputs": [],
   "source": [
    "%%time\n",
    "df_val = (\n",
    "    pandas_read_parquet_r2(bucket_name, r2_key_val)\n",
    "    .astype(dtypes_categoricals)\n",
    ")\n",
    "print(f\"Loaded {len(df_val):,} rows of validation data\")\n",
    "with pd.option_context('display.max_columns', None):\n",
    "    display(df_val.head())"
   ]
  },
  {
   "cell_type": "markdown",
   "id": "8f9b12c6-47aa-428a-bfaa-15ac11549266",
   "metadata": {},
   "source": [
    "Get the combined training+validation data split"
   ]
  },
  {
   "cell_type": "code",
   "execution_count": null,
   "id": "263337f4-ca02-43d2-ada9-61d9a11bbe87",
   "metadata": {},
   "outputs": [],
   "source": [
    "%%time\n",
    "df_train_val = pd.concat([df_train, df_val], ignore_index=True)\n",
    "print(f\"Obtained {len(df_train_val):,} rows of training+validation data\")\n",
    "with pd.option_context('display.max_columns', None):\n",
    "    display(df_train_val.head())"
   ]
  },
  {
   "cell_type": "markdown",
   "id": "e3d31867-345e-44e5-b744-d579867d615d",
   "metadata": {},
   "source": [
    "Load the test data"
   ]
  },
  {
   "cell_type": "code",
   "execution_count": null,
   "id": "7db1f525-c79e-49a1-a8d8-0f64bd2051fc",
   "metadata": {},
   "outputs": [],
   "source": [
    "%%time\n",
    "df_test = (\n",
    "    pandas_read_parquet_r2(bucket_name, r2_key_test)\n",
    "    .astype(dtypes_categoricals)\n",
    ")\n",
    "print(f\"Loaded {len(df_test):,} rows of test data\")\n",
    "with pd.option_context('display.max_columns', None):\n",
    "    display(df_test)"
   ]
  },
  {
   "cell_type": "markdown",
   "id": "02b4e5f3-150e-4652-82bf-25ba8b205981",
   "metadata": {},
   "source": [
    "## Separate Features from Target"
   ]
  },
  {
   "cell_type": "code",
   "execution_count": 12,
   "id": "a9115b65-e8a2-4c5b-a8f5-4a2a7394ecaf",
   "metadata": {},
   "outputs": [],
   "source": [
    "# model validation\n",
    "X_train = df_train.drop(columns=[label])\n",
    "y_train = df_train[label]\n",
    "\n",
    "X_val = df_val.drop(columns=[label])\n",
    "y_val = df_val[label]\n",
    "\n",
    "# model evaluation\n",
    "X_train_val = df_train_val.drop(columns=[label])\n",
    "y_train_val = df_train_val[label]\n",
    "\n",
    "X_test = df_test.drop(columns=[label])\n",
    "y_test = df_test[label]\n",
    "\n",
    "# model inference\n",
    "X_all = pd.concat([X_train, X_val, X_test])\n",
    "y_all = pd.concat([y_train, y_val, y_test])"
   ]
  },
  {
   "cell_type": "markdown",
   "id": "8c911ca8-27e3-44da-aaa9-efe6879b8cd7",
   "metadata": {},
   "source": [
    "## EDA"
   ]
  },
  {
   "cell_type": "markdown",
   "id": "3fa60374-3db1-4f19-b6e8-774518700575",
   "metadata": {},
   "source": [
    "Show the class imbalance"
   ]
  },
  {
   "cell_type": "code",
   "execution_count": 13,
   "id": "c107d1f5-5e5e-4bd1-821a-4707eca0319c",
   "metadata": {},
   "outputs": [
    {
     "data": {
      "text/html": [
       "<div>\n",
       "<style scoped>\n",
       "    .dataframe tbody tr th:only-of-type {\n",
       "        vertical-align: middle;\n",
       "    }\n",
       "\n",
       "    .dataframe tbody tr th {\n",
       "        vertical-align: top;\n",
       "    }\n",
       "\n",
       "    .dataframe thead th {\n",
       "        text-align: right;\n",
       "    }\n",
       "</style>\n",
       "<table border=\"1\" class=\"dataframe\">\n",
       "  <thead>\n",
       "    <tr style=\"text-align: right;\">\n",
       "      <th></th>\n",
       "      <th>proportion</th>\n",
       "    </tr>\n",
       "    <tr>\n",
       "      <th>is_churned</th>\n",
       "      <th></th>\n",
       "    </tr>\n",
       "  </thead>\n",
       "  <tbody>\n",
       "    <tr>\n",
       "      <th>0</th>\n",
       "      <td>0.8393</td>\n",
       "    </tr>\n",
       "    <tr>\n",
       "      <th>1</th>\n",
       "      <td>0.1607</td>\n",
       "    </tr>\n",
       "  </tbody>\n",
       "</table>\n",
       "</div>"
      ],
      "text/plain": [
       "            proportion\n",
       "is_churned            \n",
       "0               0.8393\n",
       "1               0.1607"
      ]
     },
     "metadata": {},
     "output_type": "display_data"
    }
   ],
   "source": [
    "display(y_train.value_counts(normalize=True).to_frame())"
   ]
  },
  {
   "cell_type": "markdown",
   "id": "7e869b79-fec7-410c-8459-71d6195977b0",
   "metadata": {},
   "source": [
    "Use the class imbalance to get the class_weights for cost-sensitive learning"
   ]
  },
  {
   "cell_type": "code",
   "execution_count": 14,
   "id": "c7ec6d7d-fba9-4bee-80a8-c4694f38c88b",
   "metadata": {},
   "outputs": [
    {
     "data": {
      "text/plain": [
       "{0: 0.5957345971563981, 1: 3.1113861386138613}"
      ]
     },
     "execution_count": 14,
     "metadata": {},
     "output_type": "execute_result"
    }
   ],
   "source": [
    "# utilize inverse of class distribution (class imbalance ratio)\n",
    "class_weights_train = skut.class_weight.compute_class_weight(\n",
    "    class_weight=\"balanced\",\n",
    "    classes=y_train.squeeze().unique().to_numpy(),\n",
    "    y=y_train.squeeze().to_numpy(),\n",
    ")\n",
    "class_weights_train = {c:float(w) for w, c in zip(class_weights_train, [0,1])}\n",
    "\n",
    "class_weights_train"
   ]
  },
  {
   "cell_type": "markdown",
   "id": "5e54082f-3143-40c8-8ee5-660340003ddf",
   "metadata": {},
   "source": [
    "Get the correlation between all numerical features and show combinations of features that are correlated"
   ]
  },
  {
   "cell_type": "code",
   "execution_count": 15,
   "id": "050ff615-6274-46d4-a0b4-f3077a98a612",
   "metadata": {},
   "outputs": [
    {
     "data": {
      "text/html": [
       "<div>\n",
       "<style scoped>\n",
       "    .dataframe tbody tr th:only-of-type {\n",
       "        vertical-align: middle;\n",
       "    }\n",
       "\n",
       "    .dataframe tbody tr th {\n",
       "        vertical-align: top;\n",
       "    }\n",
       "\n",
       "    .dataframe thead th {\n",
       "        text-align: right;\n",
       "    }\n",
       "</style>\n",
       "<table border=\"1\" class=\"dataframe\">\n",
       "  <thead>\n",
       "    <tr style=\"text-align: right;\">\n",
       "      <th></th>\n",
       "      <th>feat_1</th>\n",
       "      <th>feat_2</th>\n",
       "      <th>correlation</th>\n",
       "    </tr>\n",
       "  </thead>\n",
       "  <tbody>\n",
       "    <tr>\n",
       "      <th>0</th>\n",
       "      <td>credit_limit</td>\n",
       "      <td>avg_open_to_buy</td>\n",
       "      <td>0.995847</td>\n",
       "    </tr>\n",
       "    <tr>\n",
       "      <th>1</th>\n",
       "      <td>total_revolv_bal</td>\n",
       "      <td>avg_utilization_ratio</td>\n",
       "      <td>0.629318</td>\n",
       "    </tr>\n",
       "  </tbody>\n",
       "</table>\n",
       "</div>"
      ],
      "text/plain": [
       "             feat_1                 feat_2  correlation\n",
       "0      credit_limit        avg_open_to_buy     0.995847\n",
       "1  total_revolv_bal  avg_utilization_ratio     0.629318"
      ]
     },
     "metadata": {},
     "output_type": "display_data"
    },
    {
     "name": "stdout",
     "output_type": "stream",
     "text": [
      "CPU times: user 6.63 ms, sys: 0 ns, total: 6.63 ms\n",
      "Wall time: 6.33 ms\n"
     ]
    }
   ],
   "source": [
    "%%time\n",
    "df_corr = X_train[\n",
    "    list(X_train.select_dtypes(['int64', 'double']))\n",
    "].corr()\n",
    "\n",
    "# Filter for high correlations by absolute value\n",
    "high_corr_pairs = []\n",
    "for i in range(len(df_corr.columns)):\n",
    "    for j in range(i + 1, len(df_corr.columns)):\n",
    "        col1 = df_corr.columns[i]\n",
    "        col2 = df_corr.columns[j]\n",
    "        corr_value = df_corr.loc[col1, col2]\n",
    "        if abs(corr_value) > threshold_correlation:\n",
    "            high_corr_pairs.append(\n",
    "                {'feat_1': col1, 'feat_2': col2, 'correlation': corr_value}\n",
    "            )\n",
    "df_correlated_features = (\n",
    "    pd.DataFrame.from_records(high_corr_pairs)\n",
    "    .sort_values(by=['correlation'], ascending=False, ignore_index=True)\n",
    ")\n",
    "display(df_correlated_features)"
   ]
  },
  {
   "cell_type": "markdown",
   "id": "77f2387c-cc95-45c4-8837-c63461bc4c7c",
   "metadata": {},
   "source": [
    "Show the number of unique values in all categorical and ordinal features"
   ]
  },
  {
   "cell_type": "code",
   "execution_count": 16,
   "id": "798c97fc-64aa-4a61-8d56-e4e067b93c85",
   "metadata": {},
   "outputs": [
    {
     "data": {
      "text/html": [
       "<div>\n",
       "<style scoped>\n",
       "    .dataframe tbody tr th:only-of-type {\n",
       "        vertical-align: middle;\n",
       "    }\n",
       "\n",
       "    .dataframe tbody tr th {\n",
       "        vertical-align: top;\n",
       "    }\n",
       "\n",
       "    .dataframe thead th {\n",
       "        text-align: right;\n",
       "    }\n",
       "</style>\n",
       "<table border=\"1\" class=\"dataframe\">\n",
       "  <thead>\n",
       "    <tr style=\"text-align: right;\">\n",
       "      <th></th>\n",
       "      <th>feature_name</th>\n",
       "      <th>num_unique_values</th>\n",
       "    </tr>\n",
       "  </thead>\n",
       "  <tbody>\n",
       "    <tr>\n",
       "      <th>0</th>\n",
       "      <td>gender</td>\n",
       "      <td>2</td>\n",
       "    </tr>\n",
       "    <tr>\n",
       "      <th>1</th>\n",
       "      <td>education_level</td>\n",
       "      <td>7</td>\n",
       "    </tr>\n",
       "    <tr>\n",
       "      <th>2</th>\n",
       "      <td>marital_status</td>\n",
       "      <td>4</td>\n",
       "    </tr>\n",
       "    <tr>\n",
       "      <th>3</th>\n",
       "      <td>income_category</td>\n",
       "      <td>6</td>\n",
       "    </tr>\n",
       "    <tr>\n",
       "      <th>4</th>\n",
       "      <td>card_category</td>\n",
       "      <td>4</td>\n",
       "    </tr>\n",
       "  </tbody>\n",
       "</table>\n",
       "</div>"
      ],
      "text/plain": [
       "      feature_name  num_unique_values\n",
       "0           gender                  2\n",
       "1  education_level                  7\n",
       "2   marital_status                  4\n",
       "3  income_category                  6\n",
       "4    card_category                  4"
      ]
     },
     "execution_count": 16,
     "metadata": {},
     "output_type": "execute_result"
    }
   ],
   "source": [
    "(\n",
    "    X_train[list(X_train.select_dtypes(['string']))]\n",
    "    .nunique()\n",
    "    .reset_index()\n",
    "    .rename(columns={'index': 'feature_name', 0: 'num_unique_values'})\n",
    ")"
   ]
  },
  {
   "cell_type": "markdown",
   "id": "9925439b-1e62-4955-a324-b6db87cc10d6",
   "metadata": {},
   "source": [
    "## Model Validation"
   ]
  },
  {
   "cell_type": "markdown",
   "id": "851ac1b3-9ca6-4d83-99bb-b4955f789da3",
   "metadata": {},
   "source": [
    "### Feature Selection"
   ]
  },
  {
   "cell_type": "markdown",
   "id": "492416d8-e8b9-4b12-8111-db48e11bc526",
   "metadata": {},
   "source": [
    "Define ordinal, categorical and numerical features, excluding correlated features"
   ]
  },
  {
   "cell_type": "code",
   "execution_count": 17,
   "id": "1be35529-7d8c-49ba-838d-e2baa64fa766",
   "metadata": {},
   "outputs": [],
   "source": [
    "ordinal_features = [\n",
    "    'income_category',\n",
    "    'education_level',\n",
    "]\n",
    "categorical_features = [\n",
    "    # 'card_category',\n",
    "    'marital_status',\n",
    "]\n",
    "numeric_features = [\n",
    "    # 'customer_age',\n",
    "    # # 'dependent_count',\n",
    "    'months_on_book',\n",
    "    'num_products',\n",
    "    'months_inactive_12_mon',\n",
    "    'contacts_count_12_mon',\n",
    "    'total_revolv_bal',\n",
    "    # 'avg_open_to_buy',\n",
    "    'total_amt_chng_q4_q1',\n",
    "    # 'total_trans_amt',\n",
    "    'total_trans_ct',\n",
    "    'total_ct_chng_q4_q1',\n",
    "    # 'avg_utilization_ratio',\n",
    "]\n",
    "# did not find that ordinals or categoricals improved scores\n",
    "features = numeric_features#+ordinal_features+categorical_features"
   ]
  },
  {
   "cell_type": "markdown",
   "id": "98533813-98b7-4eb5-9431-9c2745a41fee",
   "metadata": {},
   "source": [
    "Verify no correlated features have been selected"
   ]
  },
  {
   "cell_type": "code",
   "execution_count": 18,
   "id": "ed6debed-636b-4262-8d94-1a90077c7f42",
   "metadata": {},
   "outputs": [],
   "source": [
    "for _, row in df_correlated_features.iterrows():\n",
    "    feats_corr = row[['feat_1', 'feat_2']].tolist()\n",
    "    try:\n",
    "        assert len(\n",
    "            set(feats_corr).intersection(set(features))\n",
    "        ) <= 1\n",
    "    except AssertionError as e:\n",
    "        print(feats_corr)"
   ]
  },
  {
   "cell_type": "markdown",
   "id": "bfe08202-158e-4511-9a8b-669036c69948",
   "metadata": {},
   "source": [
    "Define a feature preprocessing pipeline"
   ]
  },
  {
   "cell_type": "code",
   "execution_count": 19,
   "id": "f5ec341c-38d0-4c50-8776-c5693eba31b3",
   "metadata": {},
   "outputs": [],
   "source": [
    "numeric_transformer = Pipeline(\n",
    "    steps = [('scaler', pp.MinMaxScaler())]\n",
    ")\n",
    "categorical_transformer = Pipeline(\n",
    "    steps=[\n",
    "        (\"ohe\", pp.OneHotEncoder(handle_unknown=\"ignore\", drop='if_binary'))\n",
    "    ]\n",
    ")\n",
    "ordinal_transformer = Pipeline(\n",
    "    steps=[\n",
    "        (\n",
    "            \"oe\",\n",
    "            pp.OrdinalEncoder(\n",
    "                categories=[\n",
    "                    [\n",
    "                        'Unknown',\n",
    "                        'Less than $40K',\n",
    "                        '$40K - $60K',\n",
    "                        '$60K - $80K',\n",
    "                        '$80K - $120K',\n",
    "                        '$120K +'\n",
    "                    ],\n",
    "                    [\n",
    "                        'Unknown', \n",
    "                        'Uneducated', \n",
    "                        'High School', \n",
    "                        'College', \n",
    "                        'Graduate', \n",
    "                        'Post-Graduate', \n",
    "                        'Doctorate'\n",
    "                    ],\n",
    "                ],\n",
    "                handle_unknown=\"use_encoded_value\",\n",
    "                dtype=np.float64,\n",
    "                unknown_value=np.nan,\n",
    "            )\n",
    "        ),\n",
    "    ]\n",
    ")\n",
    "preprocessor = ColumnTransformer(\n",
    "    transformers=[\n",
    "        (\"num\", numeric_transformer, numeric_features),\n",
    "        # # did not find these two transformers improved scores\n",
    "        # (\"ord\", ordinal_transformer, ordinal_features),\n",
    "        # (\"cat\", categorical_transformer, categorical_features),\n",
    "    ],\n",
    "    remainder='drop',\n",
    "    verbose_feature_names_out=False,\n",
    "    n_jobs=-1,\n",
    ")\n",
    "clf_inputs = dict(\n",
    "    features=features,\n",
    "    preprocessor=preprocessor,\n",
    "    X_train=X_train,\n",
    "    y_train=y_train,\n",
    "    sample_weights=None,\n",
    ")"
   ]
  },
  {
   "cell_type": "markdown",
   "id": "24a7c982-30cd-4fda-b705-088fcf9e74d5",
   "metadata": {},
   "source": [
    "Define models to be compared, using the `class_weights` set to `\"balanced\"`"
   ]
  },
  {
   "cell_type": "code",
   "execution_count": 20,
   "id": "e22dc97b-53fd-49dc-8044-699765fb2eff",
   "metadata": {},
   "outputs": [],
   "source": [
    "models = {\n",
    "    'LogisticRegression_imbalanced': LogisticRegression(\n",
    "        class_weight=None, random_state=42, n_jobs=-1\n",
    "    ),\n",
    "    'LogisticRegression': LogisticRegression(\n",
    "        class_weight='balanced', random_state=42, n_jobs=-1\n",
    "    ),\n",
    "    'HistGradientBoostingClassifier': skens.HistGradientBoostingClassifier(\n",
    "        # # VERSION 1\n",
    "        # max_depth=3,\n",
    "        # max_bins=255,\n",
    "        # l2_regularization=0.25,\n",
    "        # learning_rate=0.1,\n",
    "        # max_iter=250,\n",
    "        # class_weight=class_weights,\n",
    "        # random_state=42,\n",
    "        # # VERSION 2\n",
    "        max_depth=3,\n",
    "        l2_regularization=0.25,\n",
    "        class_weight='balanced',\n",
    "        random_state=42,\n",
    "    ),\n",
    "    'RandomForestClassifier': skens.RandomForestClassifier(\n",
    "        n_estimators=300,\n",
    "        max_depth=3,\n",
    "        class_weight='balanced',\n",
    "        random_state=42,\n",
    "        n_jobs=-1,\n",
    "    ),\n",
    "    'XGBClassifier': xgb.XGBClassifier(\n",
    "        objective='binary:logistic',\n",
    "        eval_metric='logloss',\n",
    "        gamma=20,\n",
    "        max_depth=0,\n",
    "        eta=0.05,\n",
    "        min_child_weight=15,\n",
    "        scale_pos_weight=class_weights_train[1]/class_weights_train[0],\n",
    "        random_state=42,\n",
    "        n_jobs=-1,\n",
    "    ),\n",
    "    'Ensemble__VotingClassifier': skens.VotingClassifier(\n",
    "        estimators=[\n",
    "            (\n",
    "                'lr',\n",
    "                LogisticRegression(\n",
    "                    class_weight='balanced', random_state=42, n_jobs=-1\n",
    "                ),\n",
    "            ),\n",
    "            (\n",
    "                'hbc', skens.HistGradientBoostingClassifier(\n",
    "                    max_depth=3,\n",
    "                    l2_regularization=0.25,\n",
    "                    class_weight='balanced',\n",
    "                    random_state=42,\n",
    "                ),\n",
    "            ),\n",
    "            (\n",
    "                'rf', skens.RandomForestClassifier(\n",
    "                    n_estimators=300,\n",
    "                    max_depth=3,\n",
    "                    class_weight='balanced',\n",
    "                    random_state=42,\n",
    "                    n_jobs=-1,\n",
    "                ),\n",
    "            ),\n",
    "            (\n",
    "                    'xgb', xgb.XGBClassifier(\n",
    "                    objective='binary:logistic',\n",
    "                    eval_metric='logloss',\n",
    "                    # # VERSION 1\n",
    "                    # gamma=15,\n",
    "                    # max_depth=0,\n",
    "                    # # min_child_weight=7,\n",
    "                    # # VERSION 2\n",
    "                    gamma=20,\n",
    "                    max_depth=0,\n",
    "                    eta=0.05,\n",
    "                    min_child_weight=15,\n",
    "                    scale_pos_weight=(\n",
    "                        class_weights_train[1]/class_weights_train[0]\n",
    "                    ),\n",
    "                    random_state=42,\n",
    "                    n_jobs=-1,\n",
    "                ),\n",
    "            ),\n",
    "        ],\n",
    "        voting='soft',\n",
    "    )\n",
    "}"
   ]
  },
  {
   "cell_type": "code",
   "execution_count": 21,
   "id": "7a50019b-0d81-4ee2-b30a-540485d78a2b",
   "metadata": {},
   "outputs": [
    {
     "name": "stdout",
     "output_type": "stream",
     "text": [
      "(LogisticRegression_imbalanced) Start: 2025-10-14 15:16:46...done at 2025-10-14 15:16:48 (1.92 s).\n",
      "(LogisticRegression) Start: 2025-10-14 15:16:48...done at 2025-10-14 15:16:50 (1.77 s).\n",
      "(HistGradientBoostingClassifier) Start: 2025-10-14 15:16:50...done at 2025-10-14 15:16:52 (2.09 s).\n",
      "(RandomForestClassifier) Start: 2025-10-14 15:16:52...done at 2025-10-14 15:16:56 (4.49 s).\n",
      "(XGBClassifier) Start: 2025-10-14 15:16:56...done at 2025-10-14 15:16:57 (0.95 s).\n",
      "(Ensemble__VotingClassifier) Start: 2025-10-14 15:16:57...done at 2025-10-14 15:17:03 (5.55 s).\n",
      "CPU times: user 1.65 s, sys: 21.9 ms, total: 1.67 s\n",
      "Wall time: 16.8 s\n"
     ]
    }
   ],
   "source": [
    "%%time\n",
    "cv_results_tuned_models = {\n",
    "    model_name_param: tune_threshold_cv(\n",
    "        preprocessor,\n",
    "        model,\n",
    "        model_name_param,\n",
    "        n_cv_folds,\n",
    "        scorers_val,\n",
    "        primary_metric_val,\n",
    "        features,\n",
    "        X_train,\n",
    "        y_train,\n",
    "    )\n",
    "    for model_name_param, model in models.items()\n",
    "    if 'Dummy' not in model_name_param\n",
    "}"
   ]
  },
  {
   "cell_type": "markdown",
   "id": "4f56a526-1e80-489f-9846-a5442ab670ed",
   "metadata": {},
   "source": [
    "**Notes**\n",
    "\n",
    "1. Standard K-Fold (`KFold()`) cross-validation leads to misleading results because the class distribution might not be maintained across folds. This can result in some folds having very few or no samples of the minority class (`is_churned = True`), leading to biased performance estimates. To address this, `StratifiedKFold()` is recommended, since it ensures that each fold maintains approximately the same class distribution as the original dataset, providing more reliable performance estimates.\n",
    "2. `StratifiedKFold()` is used with the following parameters\n",
    "   - `shuffle=True` shuffles the data before splitting, providing more robust split\n",
    "   - `random_state` is set to ensure reproducibility"
   ]
  },
  {
   "cell_type": "markdown",
   "id": "fb09d341-b7f9-4577-a60b-06928a6f31df",
   "metadata": {},
   "source": [
    "Verify that expected numerical features were used in threshold tuning cross-validation"
   ]
  },
  {
   "cell_type": "code",
   "execution_count": 22,
   "id": "5793e68e-045c-4cce-81ce-44b73a57ad1a",
   "metadata": {},
   "outputs": [
    {
     "name": "stdout",
     "output_type": "stream",
     "text": [
      "CPU times: user 6.43 ms, sys: 74 μs, total: 6.5 ms\n",
      "Wall time: 14.1 ms\n"
     ]
    }
   ],
   "source": [
    "%%time\n",
    "if [t[0] for t in preprocessor.transformers] == ['num']:\n",
    "    # expected features\n",
    "    preprocessor.fit(X_train[features])\n",
    "    feats_expected = preprocessor.get_feature_names_out()\n",
    "    \n",
    "    # features used by each model during threshold tuning\n",
    "    for model_name_param in list(cv_results_tuned_models):\n",
    "        for k in cv_results_tuned_models[model_name_param]['estimator']:\n",
    "            assert k.feature_names_in_.tolist() == feats_expected.tolist()"
   ]
  },
  {
   "cell_type": "markdown",
   "id": "e8d38e8e-ebc7-455d-9009-d15749a20073",
   "metadata": {},
   "source": [
    "Show the following per fold of outer CV\n",
    "\n",
    "1. best threshold determined from inner CV and used in outer-CV\n",
    "2. outer CV scores"
   ]
  },
  {
   "cell_type": "code",
   "execution_count": null,
   "id": "009fedc4-c78b-46d3-96bb-0124d54aa13e",
   "metadata": {},
   "outputs": [],
   "source": [
    "df_cv_scores_outer = (\n",
    "    # best thresholds determined from inner CV and used in outer CV\n",
    "    pd.DataFrame.from_records(\n",
    "        [\n",
    "            {\n",
    "                'model': m,\n",
    "                'cv_fold_outer': k,\n",
    "                'threshold': float(est.best_threshold_),\n",
    "            }\n",
    "            for m, v in cv_results_tuned_models.items()\n",
    "            for k, est in enumerate(v[\"estimator\"], 1)\n",
    "        ]\n",
    "    )\n",
    "    .merge(\n",
    "        # scores from outer CV\n",
    "        (\n",
    "            pd.concat(list(cv_results_tuned_models.values()))\n",
    "            .assign(cv_fold_outer=lambda df: df.index+1)\n",
    "            .drop(columns=['estimator'])\n",
    "            .rename(columns={\"model_name\": \"model\", 'fit_time': \"train_time\"})\n",
    "            .reset_index(drop=True)\n",
    "        ),\n",
    "        on=['model', 'cv_fold_outer'],\n",
    "        how='left',\n",
    "    )\n",
    ")\n",
    "df_cv_scores_outer"
   ]
  },
  {
   "cell_type": "markdown",
   "id": "972920e6-bfe4-49cd-8dcf-3ea537369ae9",
   "metadata": {},
   "source": [
    "Get mean cross-validation scores using\n",
    "\n",
    "1. default threshold for baseline models\n",
    "2. best threshold for ML models"
   ]
  },
  {
   "cell_type": "code",
   "execution_count": 24,
   "id": "6114ccee-7df9-4d42-a640-abf6fd90ceff",
   "metadata": {},
   "outputs": [
    {
     "data": {
      "text/html": [
       "<style type=\"text/css\">\n",
       "#T_def98_row0_col0, #T_def98_row0_col4, #T_def98_row0_col6, #T_def98_row0_col8, #T_def98_row0_col10, #T_def98_row1_col0, #T_def98_row1_col4, #T_def98_row1_col6, #T_def98_row1_col8, #T_def98_row1_col10, #T_def98_row2_col0, #T_def98_row2_col4, #T_def98_row2_col6, #T_def98_row2_col8, #T_def98_row2_col10, #T_def98_row3_col0, #T_def98_row3_col4, #T_def98_row3_col6, #T_def98_row3_col8, #T_def98_row3_col10, #T_def98_row4_col0, #T_def98_row4_col4, #T_def98_row4_col6, #T_def98_row4_col8, #T_def98_row4_col10, #T_def98_row5_col0, #T_def98_row5_col4, #T_def98_row5_col6, #T_def98_row5_col8, #T_def98_row5_col10 {\n",
       "  background-color: yellow;\n",
       "  color: black;\n",
       "}\n",
       "#T_def98_row0_col5, #T_def98_row0_col7, #T_def98_row0_col9, #T_def98_row0_col11, #T_def98_row1_col5, #T_def98_row1_col7, #T_def98_row1_col9, #T_def98_row1_col11, #T_def98_row2_col5, #T_def98_row2_col7, #T_def98_row2_col9, #T_def98_row2_col11, #T_def98_row3_col5, #T_def98_row3_col7, #T_def98_row3_col9, #T_def98_row3_col11, #T_def98_row4_col5, #T_def98_row4_col7, #T_def98_row4_col9, #T_def98_row4_col11, #T_def98_row5_col5, #T_def98_row5_col7, #T_def98_row5_col9, #T_def98_row5_col11 {\n",
       "  background-color: teal;\n",
       "  color: white;\n",
       "}\n",
       "#T_def98_row0_col14, #T_def98_row1_col14, #T_def98_row2_col14, #T_def98_row3_col14, #T_def98_row4_col14, #T_def98_row5_col14 {\n",
       "  background-color: darkred;\n",
       "  color: white;\n",
       "}\n",
       "</style>\n",
       "<table id=\"T_def98\">\n",
       "  <thead>\n",
       "    <tr>\n",
       "      <th class=\"blank level0\" >&nbsp;</th>\n",
       "      <th id=\"T_def98_level0_col0\" class=\"col_heading level0 col0\" >model</th>\n",
       "      <th id=\"T_def98_level0_col1\" class=\"col_heading level0 col1\" >threshold</th>\n",
       "      <th id=\"T_def98_level0_col2\" class=\"col_heading level0 col2\" >train_time</th>\n",
       "      <th id=\"T_def98_level0_col3\" class=\"col_heading level0 col3\" >score_time</th>\n",
       "      <th id=\"T_def98_level0_col4\" class=\"col_heading level0 col4\" >test_prauc</th>\n",
       "      <th id=\"T_def98_level0_col5\" class=\"col_heading level0 col5\" >train_prauc</th>\n",
       "      <th id=\"T_def98_level0_col6\" class=\"col_heading level0 col6\" >test_f2</th>\n",
       "      <th id=\"T_def98_level0_col7\" class=\"col_heading level0 col7\" >train_f2</th>\n",
       "      <th id=\"T_def98_level0_col8\" class=\"col_heading level0 col8\" >test_recall</th>\n",
       "      <th id=\"T_def98_level0_col9\" class=\"col_heading level0 col9\" >train_recall</th>\n",
       "      <th id=\"T_def98_level0_col10\" class=\"col_heading level0 col10\" >test_rocauc</th>\n",
       "      <th id=\"T_def98_level0_col11\" class=\"col_heading level0 col11\" >train_rocauc</th>\n",
       "      <th id=\"T_def98_level0_col12\" class=\"col_heading level0 col12\" >pct_diff</th>\n",
       "      <th id=\"T_def98_level0_col13\" class=\"col_heading level0 col13\" >is_overfit</th>\n",
       "      <th id=\"T_def98_level0_col14\" class=\"col_heading level0 col14\" >is_overfit_significant</th>\n",
       "    </tr>\n",
       "  </thead>\n",
       "  <tbody>\n",
       "    <tr>\n",
       "      <th id=\"T_def98_level0_row0\" class=\"row_heading level0 row0\" >0</th>\n",
       "      <td id=\"T_def98_row0_col0\" class=\"data row0 col0\" >HistGradientBoostingClassifier</td>\n",
       "      <td id=\"T_def98_row0_col1\" class=\"data row0 col1\" >0.754410</td>\n",
       "      <td id=\"T_def98_row0_col2\" class=\"data row0 col2\" >0.959054</td>\n",
       "      <td id=\"T_def98_row0_col3\" class=\"data row0 col3\" >0.025208</td>\n",
       "      <td id=\"T_def98_row0_col4\" class=\"data row0 col4\" >0.636820</td>\n",
       "      <td id=\"T_def98_row0_col5\" class=\"data row0 col5\" >0.686566</td>\n",
       "      <td id=\"T_def98_row0_col6\" class=\"data row0 col6\" >0.742475</td>\n",
       "      <td id=\"T_def98_row0_col7\" class=\"data row0 col7\" >0.783551</td>\n",
       "      <td id=\"T_def98_row0_col8\" class=\"data row0 col8\" >0.726733</td>\n",
       "      <td id=\"T_def98_row0_col9\" class=\"data row0 col9\" >0.770545</td>\n",
       "      <td id=\"T_def98_row0_col10\" class=\"data row0 col10\" >0.847537</td>\n",
       "      <td id=\"T_def98_row0_col11\" class=\"data row0 col11\" >0.871481</td>\n",
       "      <td id=\"T_def98_row0_col12\" class=\"data row0 col12\" >7.245619</td>\n",
       "      <td id=\"T_def98_row0_col13\" class=\"data row0 col13\" >True</td>\n",
       "      <td id=\"T_def98_row0_col14\" class=\"data row0 col14\" >True</td>\n",
       "    </tr>\n",
       "    <tr>\n",
       "      <th id=\"T_def98_level0_row1\" class=\"row_heading level0 row1\" >1</th>\n",
       "      <td id=\"T_def98_row1_col0\" class=\"data row1 col0\" >Ensemble__VotingClassifier</td>\n",
       "      <td id=\"T_def98_row1_col1\" class=\"data row1 col1\" >0.665158</td>\n",
       "      <td id=\"T_def98_row1_col2\" class=\"data row1 col2\" >5.128225</td>\n",
       "      <td id=\"T_def98_row1_col3\" class=\"data row1 col3\" >0.087478</td>\n",
       "      <td id=\"T_def98_row1_col4\" class=\"data row1 col4\" >0.601252</td>\n",
       "      <td id=\"T_def98_row1_col5\" class=\"data row1 col5\" >0.642142</td>\n",
       "      <td id=\"T_def98_row1_col6\" class=\"data row1 col6\" >0.737400</td>\n",
       "      <td id=\"T_def98_row1_col7\" class=\"data row1 col7\" >0.768425</td>\n",
       "      <td id=\"T_def98_row1_col8\" class=\"data row1 col8\" >0.731683</td>\n",
       "      <td id=\"T_def98_row1_col9\" class=\"data row1 col9\" >0.763119</td>\n",
       "      <td id=\"T_def98_row1_col10\" class=\"data row1 col10\" >0.843946</td>\n",
       "      <td id=\"T_def98_row1_col11\" class=\"data row1 col11\" >0.862270</td>\n",
       "      <td id=\"T_def98_row1_col12\" class=\"data row1 col12\" >6.367789</td>\n",
       "      <td id=\"T_def98_row1_col13\" class=\"data row1 col13\" >True</td>\n",
       "      <td id=\"T_def98_row1_col14\" class=\"data row1 col14\" >True</td>\n",
       "    </tr>\n",
       "    <tr>\n",
       "      <th id=\"T_def98_level0_row2\" class=\"row_heading level0 row2\" >2</th>\n",
       "      <td id=\"T_def98_row2_col0\" class=\"data row2 col0\" >XGBClassifier</td>\n",
       "      <td id=\"T_def98_row2_col1\" class=\"data row2 col1\" >0.728473</td>\n",
       "      <td id=\"T_def98_row2_col2\" class=\"data row2 col2\" >0.837158</td>\n",
       "      <td id=\"T_def98_row2_col3\" class=\"data row2 col3\" >0.022606</td>\n",
       "      <td id=\"T_def98_row2_col4\" class=\"data row2 col4\" >0.599207</td>\n",
       "      <td id=\"T_def98_row2_col5\" class=\"data row2 col5\" >0.660790</td>\n",
       "      <td id=\"T_def98_row2_col6\" class=\"data row2 col6\" >0.737019</td>\n",
       "      <td id=\"T_def98_row2_col7\" class=\"data row2 col7\" >0.787948</td>\n",
       "      <td id=\"T_def98_row2_col8\" class=\"data row2 col8\" >0.731683</td>\n",
       "      <td id=\"T_def98_row2_col9\" class=\"data row2 col9\" >0.785891</td>\n",
       "      <td id=\"T_def98_row2_col10\" class=\"data row2 col10\" >0.843661</td>\n",
       "      <td id=\"T_def98_row2_col11\" class=\"data row2 col11\" >0.873751</td>\n",
       "      <td id=\"T_def98_row2_col12\" class=\"data row2 col12\" >9.319655</td>\n",
       "      <td id=\"T_def98_row2_col13\" class=\"data row2 col13\" >True</td>\n",
       "      <td id=\"T_def98_row2_col14\" class=\"data row2 col14\" >True</td>\n",
       "    </tr>\n",
       "    <tr>\n",
       "      <th id=\"T_def98_level0_row3\" class=\"row_heading level0 row3\" >3</th>\n",
       "      <td id=\"T_def98_row3_col0\" class=\"data row3 col0\" >RandomForestClassifier</td>\n",
       "      <td id=\"T_def98_row3_col1\" class=\"data row3 col1\" >0.643604</td>\n",
       "      <td id=\"T_def98_row3_col2\" class=\"data row3 col2\" >4.203809</td>\n",
       "      <td id=\"T_def98_row3_col3\" class=\"data row3 col3\" >0.076358</td>\n",
       "      <td id=\"T_def98_row3_col4\" class=\"data row3 col4\" >0.530342</td>\n",
       "      <td id=\"T_def98_row3_col5\" class=\"data row3 col5\" >0.557128</td>\n",
       "      <td id=\"T_def98_row3_col6\" class=\"data row3 col6\" >0.631444</td>\n",
       "      <td id=\"T_def98_row3_col7\" class=\"data row3 col7\" >0.653761</td>\n",
       "      <td id=\"T_def98_row3_col8\" class=\"data row3 col8\" >0.604950</td>\n",
       "      <td id=\"T_def98_row3_col9\" class=\"data row3 col9\" >0.626733</td>\n",
       "      <td id=\"T_def98_row3_col10\" class=\"data row3 col10\" >0.785129</td>\n",
       "      <td id=\"T_def98_row3_col11\" class=\"data row3 col11\" >0.797608</td>\n",
       "      <td id=\"T_def98_row3_col12\" class=\"data row3 col12\" >4.807813</td>\n",
       "      <td id=\"T_def98_row3_col13\" class=\"data row3 col13\" >True</td>\n",
       "      <td id=\"T_def98_row3_col14\" class=\"data row3 col14\" >False</td>\n",
       "    </tr>\n",
       "    <tr>\n",
       "      <th id=\"T_def98_level0_row4\" class=\"row_heading level0 row4\" >4</th>\n",
       "      <td id=\"T_def98_row4_col0\" class=\"data row4 col0\" >LogisticRegression_imbalanced</td>\n",
       "      <td id=\"T_def98_row4_col1\" class=\"data row4 col1\" >0.332606</td>\n",
       "      <td id=\"T_def98_row4_col2\" class=\"data row4 col2\" >0.608115</td>\n",
       "      <td id=\"T_def98_row4_col3\" class=\"data row4 col3\" >0.020708</td>\n",
       "      <td id=\"T_def98_row4_col4\" class=\"data row4 col4\" >0.462527</td>\n",
       "      <td id=\"T_def98_row4_col5\" class=\"data row4 col5\" >0.474420</td>\n",
       "      <td id=\"T_def98_row4_col6\" class=\"data row4 col6\" >0.634018</td>\n",
       "      <td id=\"T_def98_row4_col7\" class=\"data row4 col7\" >0.646993</td>\n",
       "      <td id=\"T_def98_row4_col8\" class=\"data row4 col8\" >0.633663</td>\n",
       "      <td id=\"T_def98_row4_col9\" class=\"data row4 col9\" >0.647525</td>\n",
       "      <td id=\"T_def98_row4_col10\" class=\"data row4 col10\" >0.782140</td>\n",
       "      <td id=\"T_def98_row4_col11\" class=\"data row4 col11\" >0.789639</td>\n",
       "      <td id=\"T_def98_row4_col12\" class=\"data row4 col12\" >2.506701</td>\n",
       "      <td id=\"T_def98_row4_col13\" class=\"data row4 col13\" >True</td>\n",
       "      <td id=\"T_def98_row4_col14\" class=\"data row4 col14\" >False</td>\n",
       "    </tr>\n",
       "    <tr>\n",
       "      <th id=\"T_def98_level0_row5\" class=\"row_heading level0 row5\" >5</th>\n",
       "      <td id=\"T_def98_row5_col0\" class=\"data row5 col0\" >LogisticRegression</td>\n",
       "      <td id=\"T_def98_row5_col1\" class=\"data row5 col1\" >0.721596</td>\n",
       "      <td id=\"T_def98_row5_col2\" class=\"data row5 col2\" >0.618770</td>\n",
       "      <td id=\"T_def98_row5_col3\" class=\"data row5 col3\" >0.020606</td>\n",
       "      <td id=\"T_def98_row5_col4\" class=\"data row5 col4\" >0.457164</td>\n",
       "      <td id=\"T_def98_row5_col5\" class=\"data row5 col5\" >0.467764</td>\n",
       "      <td id=\"T_def98_row5_col6\" class=\"data row5 col6\" >0.628436</td>\n",
       "      <td id=\"T_def98_row5_col7\" class=\"data row5 col7\" >0.637220</td>\n",
       "      <td id=\"T_def98_row5_col8\" class=\"data row5 col8\" >0.627723</td>\n",
       "      <td id=\"T_def98_row5_col9\" class=\"data row5 col9\" >0.635891</td>\n",
       "      <td id=\"T_def98_row5_col10\" class=\"data row5 col10\" >0.778885</td>\n",
       "      <td id=\"T_def98_row5_col11\" class=\"data row5 col11\" >0.784178</td>\n",
       "      <td id=\"T_def98_row5_col12\" class=\"data row5 col12\" >2.265949</td>\n",
       "      <td id=\"T_def98_row5_col13\" class=\"data row5 col13\" >True</td>\n",
       "      <td id=\"T_def98_row5_col14\" class=\"data row5 col14\" >False</td>\n",
       "    </tr>\n",
       "  </tbody>\n",
       "</table>\n"
      ],
      "text/plain": [
       "<pandas.io.formats.style.Styler at 0x7976a835fe30>"
      ]
     },
     "execution_count": 24,
     "metadata": {},
     "output_type": "execute_result"
    }
   ],
   "source": [
    "df_cv_scores_all = (\n",
    "    df_cv_scores_outer\n",
    "    .drop(columns=['cv_fold_outer'])\n",
    "    .groupby(['model'], as_index=False)\n",
    "    .mean()\n",
    "    .convert_dtypes(dtype_backend='pyarrow')\n",
    "    .assign(\n",
    "        pct_diff=lambda df: (\n",
    "            (\n",
    "                df[f'train_{primary_metric_val}']\n",
    "                -df[f'test_{primary_metric_val}']\n",
    "            ).abs()/df[f'train_{primary_metric_val}']*100\n",
    "        ),\n",
    "        is_overfit=lambda df: (\n",
    "            (\n",
    "                df[f'train_{primary_metric_val}']\n",
    "                > df[f'test_{primary_metric_val}']\n",
    "            )\n",
    "            .astype('bool[pyarrow]')\n",
    "        ),\n",
    "        is_overfit_significant=lambda df: (\n",
    "            (\n",
    "                (df['is_overfit'] == True)\n",
    "                & (df['pct_diff'] > threshold_overfit)\n",
    "            ).astype('bool[pyarrow]')\n",
    "        ),\n",
    "    )\n",
    "    .sort_values(\n",
    "        by=[f'test_{primary_metric_val}'], ascending=[False], ignore_index=True\n",
    "    )\n",
    ")\n",
    "(\n",
    "    df_cv_scores_all\n",
    "    .style\n",
    "    .set_properties(\n",
    "        subset=['model']+[f'test_{m}' for m in metrics_list_val],\n",
    "        **{'background-color': 'yellow', 'color': 'black'}\n",
    "    )\n",
    "    .set_properties(\n",
    "        subset=[f'train_{m}' for m in metrics_list_val],\n",
    "        **{'background-color': 'teal', 'color': 'white'}\n",
    "    )\n",
    "    .set_properties(\n",
    "        subset=['is_overfit_significant'],\n",
    "        **{'background-color': 'darkred', 'color': 'white'}\n",
    "    )\n",
    ")"
   ]
  },
  {
   "cell_type": "markdown",
   "id": "1bc7ea67-366b-4c9f-bb61-ddea83748c1d",
   "metadata": {},
   "source": [
    "**Observations**\n",
    "\n",
    "1. Except for `LogisticRegression`, all tree-based models are over-fitting by approximately 5-9%. For the best (tree-based) models, this degree of over-fitting is significant based on our pre-defined threshold of 5%, which was defined in `threshold_overfit`. For the purposes of this version of the analysis, we will assume this is acceptable and no further model tuning is performed to reduce this to less than 5%.\n",
    "2. The model performance using the primary metric for model validation (`prauc`) suggests\n",
    "   - tree-based models out-perform the linear model (`LogisticRegression`)\n",
    "   - improvement in model performance is warranted"
   ]
  },
  {
   "cell_type": "markdown",
   "id": "a5da2748-c1c0-4e0b-855e-430845c6c1a1",
   "metadata": {},
   "source": [
    "Get best ML model and best decision threshold, based on mean CV scores"
   ]
  },
  {
   "cell_type": "code",
   "execution_count": 25,
   "id": "06eee4ec-16ef-4c5c-9cb4-73bd2c127fca",
   "metadata": {},
   "outputs": [],
   "source": [
    "best_estimator = (\n",
    "    df_cv_scores_all\n",
    "    .nlargest(1, f'test_{primary_metric_val}')\n",
    "    ['model']\n",
    "    .squeeze()\n",
    ")\n",
    "best_estimator_threshold = (\n",
    "    df_cv_scores_all\n",
    "    .query(f\"model == '{best_estimator}'\")\n",
    "    ['threshold']\n",
    "    .squeeze()\n",
    ")\n",
    "assert '_imbalanced' not in best_estimator"
   ]
  },
  {
   "cell_type": "markdown",
   "id": "09390fa0-5f45-45e2-9ded-3b74cdd64ced",
   "metadata": {},
   "source": [
    "Show distribution of best thresholds during threshold tuning (inner) cross-validation, for best ML model"
   ]
  },
  {
   "cell_type": "code",
   "execution_count": 26,
   "id": "b776c16d-a218-4305-82aa-b7295e6434cb",
   "metadata": {},
   "outputs": [
    {
     "data": {
      "image/png": "[encoded data removed]",
      "text/plain": [
       "<Figure size 800x400 with 1 Axes>"
      ]
     },
     "metadata": {},
     "output_type": "display_data"
    }
   ],
   "source": [
    "decision_thresholds = pd.Series(\n",
    "    [\n",
    "        est.best_threshold_\n",
    "        for est in cv_results_tuned_models[best_estimator][\"estimator\"]\n",
    "    ],\n",
    ")\n",
    "\n",
    "fig, ax = plt.subplots(figsize=(8, 4))\n",
    "ax = decision_thresholds.plot.kde(ax=ax)\n",
    "ax.axvline(\n",
    "    decision_thresholds.mean(),\n",
    "    color=\"k\",\n",
    "    linestyle=\"--\",\n",
    "    label=f\"Mean decision threshold = {decision_thresholds.mean():.2f}\",\n",
    ")\n",
    "ax.set_xlabel(\"Decision threshold\")\n",
    "ax.legend(\n",
    "    loc=\"upper right\",\n",
    "    frameon=False,\n",
    "    handletextpad=0.3,\n",
    ")\n",
    "ax.spines[['right', 'top']].set_visible(False)\n",
    "_ = ax.set_title(\n",
    "    \"Distribution of Decision Thresholds Across CV Folds\",\n",
    "    loc='left',\n",
    "    fontweight='bold',\n",
    "    fontsize=11,\n",
    ")"
   ]
  },
  {
   "cell_type": "markdown",
   "id": "fe34666a-3959-4948-8598-dcba0470492a",
   "metadata": {},
   "source": [
    "**Observations**\n",
    "\n",
    "1. From plotting the best decision threshold values determined from the inner cross-validation scores, the best decision threshold is taken as the mean value (0.75, see dashed line above) of the distribution."
   ]
  },
  {
   "cell_type": "markdown",
   "id": "a2544d4e-7071-4549-8ada-da5234876e03",
   "metadata": {},
   "source": [
    "### Evaluate Model Performance on Validation Split"
   ]
  },
  {
   "cell_type": "markdown",
   "id": "51e409f5-f188-4dee-a8e9-0499b3787768",
   "metadata": {},
   "source": [
    "Get ML model predictions of the data which was not seen during model selection and threshold tuning (validation data)"
   ]
  },
  {
   "cell_type": "code",
   "execution_count": null,
   "id": "353cb9cf-aad6-4a4f-885f-5739d1706939",
   "metadata": {},
   "outputs": [],
   "source": [
    "%%time\n",
    "_, df_val_pred = evaluate_model(\n",
    "    preprocessor,\n",
    "    models[best_estimator],\n",
    "    best_estimator,\n",
    "    X_train,\n",
    "    y_train,\n",
    "    X_val,\n",
    "    y_val,\n",
    "    scorers_eval,\n",
    "    'balanced',\n",
    "    primary_metric=primary_metric_eval,\n",
    "    threshold_overfit=threshold_overfit,\n",
    "    threshold_scoring=best_estimator_threshold,\n",
    ")\n",
    "with pd.option_context('display.max_columns', None):\n",
    "    display(df_val_pred)"
   ]
  },
  {
   "cell_type": "markdown",
   "id": "64d6ca17-5113-4ce2-aba6-255051f9a8e5",
   "metadata": {},
   "source": [
    "## Model Evaluation"
   ]
  },
  {
   "cell_type": "markdown",
   "id": "1338741e-564e-4da6-9fb8-7d51dbf4ea42",
   "metadata": {},
   "source": [
    "Model evaluation uses the test data split."
   ]
  },
  {
   "cell_type": "markdown",
   "id": "33b05d0f-e627-4fbd-85bc-9bf6a972768d",
   "metadata": {},
   "source": [
    "Model evaluation is performed to evaluate the performance of the model on unseen data (test split). The best model is trained on the combined training and validation data. It is then used the make predictions of the test split and these predictions are scored. See [phase 3 from the metrics section of the project scope](https://github.com/edesz/credit-card-churn/blob/main/references/01_proposal.md#final-choice-of-metrics) for details about the choice of metric for model evaluation."
   ]
  },
  {
   "cell_type": "markdown",
   "id": "004fcd45-f1eb-4f1a-b1d7-2c261293757d",
   "metadata": {},
   "source": [
    "### Evaluate Model Performance on Test Split"
   ]
  },
  {
   "cell_type": "markdown",
   "id": "89232cf6-46ea-46c1-b256-260bd37ce918",
   "metadata": {},
   "source": [
    "Get ML model predictions of the data which was not seen during model validation and threshold tuning (test data)"
   ]
  },
  {
   "cell_type": "code",
   "execution_count": 28,
   "id": "60f9f7bc-38e9-4f0f-8a47-1ff4ce7d35bf",
   "metadata": {},
   "outputs": [
    {
     "name": "stdout",
     "output_type": "stream",
     "text": [
      "CPU times: user 280 ms, sys: 25.7 ms, total: 306 ms\n",
      "Wall time: 152 ms\n"
     ]
    },
    {
     "data": {
      "text/html": [
       "<style type=\"text/css\">\n",
       "#T_dfe4a_row0_col0, #T_dfe4a_row0_col2, #T_dfe4a_row0_col4, #T_dfe4a_row1_col0, #T_dfe4a_row1_col2, #T_dfe4a_row1_col4 {\n",
       "  background-color: yellow;\n",
       "  color: black;\n",
       "}\n",
       "#T_dfe4a_row0_col3, #T_dfe4a_row0_col5, #T_dfe4a_row1_col3, #T_dfe4a_row1_col5 {\n",
       "  background-color: teal;\n",
       "  color: white;\n",
       "}\n",
       "#T_dfe4a_row0_col8, #T_dfe4a_row1_col8 {\n",
       "  background-color: darkred;\n",
       "  color: white;\n",
       "}\n",
       "</style>\n",
       "<table id=\"T_dfe4a\">\n",
       "  <thead>\n",
       "    <tr>\n",
       "      <th class=\"blank level0\" >&nbsp;</th>\n",
       "      <th id=\"T_dfe4a_level0_col0\" class=\"col_heading level0 col0\" >model</th>\n",
       "      <th id=\"T_dfe4a_level0_col1\" class=\"col_heading level0 col1\" >threshold</th>\n",
       "      <th id=\"T_dfe4a_level0_col2\" class=\"col_heading level0 col2\" >test_f2</th>\n",
       "      <th id=\"T_dfe4a_level0_col3\" class=\"col_heading level0 col3\" >train_f2</th>\n",
       "      <th id=\"T_dfe4a_level0_col4\" class=\"col_heading level0 col4\" >test_recall</th>\n",
       "      <th id=\"T_dfe4a_level0_col5\" class=\"col_heading level0 col5\" >train_recall</th>\n",
       "      <th id=\"T_dfe4a_level0_col6\" class=\"col_heading level0 col6\" >pct_diff</th>\n",
       "      <th id=\"T_dfe4a_level0_col7\" class=\"col_heading level0 col7\" >is_overfit</th>\n",
       "      <th id=\"T_dfe4a_level0_col8\" class=\"col_heading level0 col8\" >is_overfit_significant</th>\n",
       "      <th id=\"T_dfe4a_level0_col9\" class=\"col_heading level0 col9\" >split</th>\n",
       "    </tr>\n",
       "  </thead>\n",
       "  <tbody>\n",
       "    <tr>\n",
       "      <th id=\"T_dfe4a_level0_row0\" class=\"row_heading level0 row0\" >0</th>\n",
       "      <td id=\"T_dfe4a_row0_col0\" class=\"data row0 col0\" >HistGradientBoostingClassifier</td>\n",
       "      <td id=\"T_dfe4a_row0_col1\" class=\"data row0 col1\" >0.754410</td>\n",
       "      <td id=\"T_dfe4a_row0_col2\" class=\"data row0 col2\" >0.742475</td>\n",
       "      <td id=\"T_dfe4a_row0_col3\" class=\"data row0 col3\" >0.783551</td>\n",
       "      <td id=\"T_dfe4a_row0_col4\" class=\"data row0 col4\" >0.726733</td>\n",
       "      <td id=\"T_dfe4a_row0_col5\" class=\"data row0 col5\" >0.770545</td>\n",
       "      <td id=\"T_dfe4a_row0_col6\" class=\"data row0 col6\" >7.245619</td>\n",
       "      <td id=\"T_dfe4a_row0_col7\" class=\"data row0 col7\" >True</td>\n",
       "      <td id=\"T_dfe4a_row0_col8\" class=\"data row0 col8\" >True</td>\n",
       "      <td id=\"T_dfe4a_row0_col9\" class=\"data row0 col9\" >validation</td>\n",
       "    </tr>\n",
       "    <tr>\n",
       "      <th id=\"T_dfe4a_level0_row1\" class=\"row_heading level0 row1\" >1</th>\n",
       "      <td id=\"T_dfe4a_row1_col0\" class=\"data row1 col0\" >HistGradientBoostingClassifier</td>\n",
       "      <td id=\"T_dfe4a_row1_col1\" class=\"data row1 col1\" >0.754410</td>\n",
       "      <td id=\"T_dfe4a_row1_col2\" class=\"data row1 col2\" >0.735995</td>\n",
       "      <td id=\"T_dfe4a_row1_col3\" class=\"data row1 col3\" >0.788099</td>\n",
       "      <td id=\"T_dfe4a_row1_col4\" class=\"data row1 col4\" >0.715942</td>\n",
       "      <td id=\"T_dfe4a_row1_col5\" class=\"data row1 col5\" >0.776911</td>\n",
       "      <td id=\"T_dfe4a_row1_col6\" class=\"data row1 col6\" >6.611368</td>\n",
       "      <td id=\"T_dfe4a_row1_col7\" class=\"data row1 col7\" >True</td>\n",
       "      <td id=\"T_dfe4a_row1_col8\" class=\"data row1 col8\" >True</td>\n",
       "      <td id=\"T_dfe4a_row1_col9\" class=\"data row1 col9\" >test</td>\n",
       "    </tr>\n",
       "  </tbody>\n",
       "</table>\n"
      ],
      "text/plain": [
       "<pandas.io.formats.style.Styler at 0x79767c2105f0>"
      ]
     },
     "execution_count": 28,
     "metadata": {},
     "output_type": "execute_result"
    }
   ],
   "source": [
    "%%time\n",
    "df_scores, df_test_pred = evaluate_model(\n",
    "    preprocessor,\n",
    "    models[best_estimator],\n",
    "    best_estimator,\n",
    "    X_train_val,\n",
    "    y_train_val,\n",
    "    X_test,\n",
    "    y_test,\n",
    "    scorers_eval,\n",
    "    'balanced',\n",
    "    primary_metric=primary_metric_eval,\n",
    "    threshold_overfit=threshold_overfit,\n",
    "    threshold_scoring=best_estimator_threshold,\n",
    ")\n",
    "(\n",
    "    pd.concat(\n",
    "        [\n",
    "            (\n",
    "                df_cv_scores_all\n",
    "                .nlargest(1, f'test_{primary_metric_eval}')\n",
    "                .drop(\n",
    "                    columns=(\n",
    "                        ['train_time', 'score_time']\n",
    "                        +[\n",
    "                            f\"{s}_{m}\"\n",
    "                            for m in [metrics_list_val[0], metrics_list_val[-1]]\n",
    "                            for s in ['train', 'test']\n",
    "                        ]\n",
    "                    )\n",
    "                )\n",
    "                .assign(split='validation')\n",
    "            ),\n",
    "            (\n",
    "                df_scores\n",
    "                .assign(split='test', threshold=best_estimator_threshold)\n",
    "                .rename(\n",
    "                    columns={\n",
    "                        f\"pct_diff_{primary_metric_eval}\": \"pct_diff\",\n",
    "                        f\"is_overfit_{primary_metric_eval}\": \"is_overfit\",\n",
    "                        f\"is_overfit_significant_{primary_metric_eval}\": (\n",
    "                            \"is_overfit_significant\"\n",
    "                        ),\n",
    "                    }\n",
    "                )\n",
    "            ),\n",
    "        ],\n",
    "        ignore_index=True,\n",
    "    )\n",
    "    .style\n",
    "    .set_properties(\n",
    "        subset=['model']+[f'test_{m}' for m in metrics_list_eval],\n",
    "        **{'background-color': 'yellow', 'color': 'black'}\n",
    "    )\n",
    "    .set_properties(\n",
    "        subset=[f'train_{m}' for m in metrics_list_eval],\n",
    "        **{'background-color': 'teal', 'color': 'white'}\n",
    "    )\n",
    "    .set_properties(\n",
    "        subset=[f\"is_overfit_significant\"],\n",
    "        **{'background-color': 'darkred', 'color': 'white'}\n",
    "    )\n",
    ")"
   ]
  },
  {
   "cell_type": "markdown",
   "id": "57bbc0a0-ddf6-4c4b-a9c1-f9f7468964b1",
   "metadata": {},
   "source": [
    "**Observations**\n",
    "\n",
    "1. The scores on the test data are in good agreement with scores on the validation data using ML metrics.\n",
    "2. The observed overfitting is approximately 6.6%, which is close to that observed during model validation (approximately 7.2%). In the test data, this degree of over-fitting is again significant based on our pre-defined threshold of 5%, which was defined in `threshold_overfit`. As with the validation scores, we assume this over-fitting is acceptable for this iteration of the analysis."
   ]
  },
  {
   "cell_type": "markdown",
   "id": "553234f6-cc8f-417e-85df-a004a583bc1f",
   "metadata": {},
   "source": [
    "### Class Imbalance"
   ]
  },
  {
   "cell_type": "markdown",
   "id": "5d51a9ef-bbd4-48a3-a063-a6d74f0443a3",
   "metadata": {},
   "source": [
    "Get the true and predicted class imbalance for the test data"
   ]
  },
  {
   "cell_type": "code",
   "execution_count": 29,
   "id": "ebb1edf9-95bc-4e11-a81e-0a2b6fc92105",
   "metadata": {},
   "outputs": [
    {
     "name": "stdout",
     "output_type": "stream",
     "text": [
      "CPU times: user 2.76 ms, sys: 949 μs, total: 3.71 ms\n",
      "Wall time: 3.37 ms\n"
     ]
    },
    {
     "data": {
      "text/html": [
       "<div>\n",
       "<style scoped>\n",
       "    .dataframe tbody tr th:only-of-type {\n",
       "        vertical-align: middle;\n",
       "    }\n",
       "\n",
       "    .dataframe tbody tr th {\n",
       "        vertical-align: top;\n",
       "    }\n",
       "\n",
       "    .dataframe thead th {\n",
       "        text-align: right;\n",
       "    }\n",
       "</style>\n",
       "<table border=\"1\" class=\"dataframe\">\n",
       "  <thead>\n",
       "    <tr style=\"text-align: right;\">\n",
       "      <th></th>\n",
       "      <th>predicted</th>\n",
       "      <th>true</th>\n",
       "    </tr>\n",
       "    <tr>\n",
       "      <th>y_pred</th>\n",
       "      <th></th>\n",
       "      <th></th>\n",
       "    </tr>\n",
       "  </thead>\n",
       "  <tbody>\n",
       "    <tr>\n",
       "      <th>No Churn</th>\n",
       "      <td>0.861331</td>\n",
       "      <td>0.83946</td>\n",
       "    </tr>\n",
       "    <tr>\n",
       "      <th>Churn</th>\n",
       "      <td>0.138669</td>\n",
       "      <td>0.16054</td>\n",
       "    </tr>\n",
       "  </tbody>\n",
       "</table>\n",
       "</div>"
      ],
      "text/plain": [
       "          predicted     true\n",
       "y_pred                      \n",
       "No Churn   0.861331  0.83946\n",
       "Churn      0.138669  0.16054"
      ]
     },
     "execution_count": 29,
     "metadata": {},
     "output_type": "execute_result"
    }
   ],
   "source": [
    "%%time\n",
    "df_true_pred_class_imbalance = (\n",
    "    (\n",
    "        df_test_pred['y_pred']\n",
    "        .value_counts(normalize=True)\n",
    "        .rename('predicted')\n",
    "        .to_frame()\n",
    "    )\n",
    "    .merge(\n",
    "        (\n",
    "            df_test_pred['is_churned']\n",
    "            .value_counts(normalize=True)\n",
    "            .rename('true')\n",
    "            .to_frame()\n",
    "        ),\n",
    "        left_index=True,\n",
    "        right_index=True,\n",
    "    )\n",
    ")\n",
    "df_true_pred_class_imbalance.index = df_true_pred_class_imbalance.index.map(\n",
    "    {0: 'No Churn', 1: 'Churn'}\n",
    ")\n",
    "churn_true = df_true_pred_class_imbalance.loc['Churn']['true']\n",
    "churn_pred = df_true_pred_class_imbalance.loc['Churn']['predicted']\n",
    "df_true_pred_class_imbalance"
   ]
  },
  {
   "cell_type": "markdown",
   "id": "5b97bff2-d51e-49aa-878c-8c02f4f76700",
   "metadata": {},
   "source": [
    "**Observations**\n",
    "\n",
    "1. The class imbalance in the test split is approximately the same as that in the training split (~84%:16%).\n",
    "2. It is reassuring that the true and predicted class imbalance are close to each other."
   ]
  },
  {
   "cell_type": "markdown",
   "id": "3a662417-de85-4cb4-8c12-e86d16cb0843",
   "metadata": {},
   "source": [
    "The class imbalance in the validation and test data is shown below"
   ]
  },
  {
   "cell_type": "code",
   "execution_count": 30,
   "id": "3858d801-fb02-4deb-a579-9b4ea73233bb",
   "metadata": {},
   "outputs": [
    {
     "name": "stdout",
     "output_type": "stream",
     "text": [
      "CPU times: user 2.14 ms, sys: 966 μs, total: 3.11 ms\n",
      "Wall time: 2.78 ms\n"
     ]
    },
    {
     "data": {
      "text/html": [
       "<div>\n",
       "<style scoped>\n",
       "    .dataframe tbody tr th:only-of-type {\n",
       "        vertical-align: middle;\n",
       "    }\n",
       "\n",
       "    .dataframe tbody tr th {\n",
       "        vertical-align: top;\n",
       "    }\n",
       "\n",
       "    .dataframe thead th {\n",
       "        text-align: right;\n",
       "    }\n",
       "</style>\n",
       "<table border=\"1\" class=\"dataframe\">\n",
       "  <thead>\n",
       "    <tr style=\"text-align: right;\">\n",
       "      <th></th>\n",
       "      <th>validation</th>\n",
       "      <th>test</th>\n",
       "    </tr>\n",
       "    <tr>\n",
       "      <th>is_churned</th>\n",
       "      <th></th>\n",
       "      <th></th>\n",
       "    </tr>\n",
       "  </thead>\n",
       "  <tbody>\n",
       "    <tr>\n",
       "      <th>No Churn</th>\n",
       "      <td>0.839338</td>\n",
       "      <td>0.83946</td>\n",
       "    </tr>\n",
       "    <tr>\n",
       "      <th>Churn</th>\n",
       "      <td>0.160662</td>\n",
       "      <td>0.16054</td>\n",
       "    </tr>\n",
       "  </tbody>\n",
       "</table>\n",
       "</div>"
      ],
      "text/plain": [
       "            validation     test\n",
       "is_churned                     \n",
       "No Churn      0.839338  0.83946\n",
       "Churn         0.160662  0.16054"
      ]
     },
     "execution_count": 30,
     "metadata": {},
     "output_type": "execute_result"
    }
   ],
   "source": [
    "%%time\n",
    "df_val_test_true_class_imbalance = (\n",
    "    df_val_pred['is_churned']\n",
    "    .value_counts(normalize=True)\n",
    "    .rename('validation')\n",
    "    .to_frame()\n",
    "    .merge(\n",
    "        df_test_pred['is_churned'].value_counts(normalize=True).rename('test').to_frame(),\n",
    "        left_index=True,\n",
    "        right_index=True,\n",
    "        how='left',\n",
    "    )\n",
    ")\n",
    "df_val_test_true_class_imbalance.index = df_val_test_true_class_imbalance.index.map(\n",
    "    {0: 'No Churn', 1: 'Churn'}\n",
    ")\n",
    "df_val_test_true_class_imbalance"
   ]
  },
  {
   "cell_type": "markdown",
   "id": "6057cf44-da3e-4623-8064-0bbe2ba1eb77",
   "metadata": {},
   "source": [
    "**Notes**\n",
    "\n",
    "1. It is reassuring that the class imbalances are nearly equivalent between the validation and test splits. Patterns seen in during model validation should not be impacted by changes of the class imbalance during model evaluation."
   ]
  },
  {
   "cell_type": "markdown",
   "id": "01e6d76e-efe7-4de4-88de-ce1848ad6934",
   "metadata": {},
   "source": [
    "Show the class imbalance and distribution of prediction probabilities for the test data"
   ]
  },
  {
   "cell_type": "code",
   "execution_count": 31,
   "id": "6ecf58f8-4bdf-432f-ad0e-a70fa2699ceb",
   "metadata": {},
   "outputs": [
    {
     "name": "stdout",
     "output_type": "stream",
     "text": [
      "CPU times: user 57.4 ms, sys: 1.96 ms, total: 59.4 ms\n",
      "Wall time: 58.4 ms\n"
     ]
    },
    {
     "data": {
      "image/png": "[encoded data removed]",
      "text/plain": [
       "<Figure size 1200x400 with 2 Axes>"
      ]
     },
     "metadata": {},
     "output_type": "display_data"
    }
   ],
   "source": [
    "%%time\n",
    "vzu.plot_class_imbalance_proba_distribution(\n",
    "    df_class_imbalance=df_true_pred_class_imbalance.rename(columns=str.title),\n",
    "    df_probabilities=(df_test_pred['y_pred_proba']*100),\n",
    "    ptitle1='~2% Lower Churn Predicted in Test Split',\n",
    "    title1_xloc=-0.3,\n",
    "    ptitle2=(\n",
    "        'Predicted Probabilities show Right Skew with Weak Peak Above ~90%'\n",
    "    ),\n",
    "    vline_label=f'Optimized Churn Cutoff ({best_estimator_threshold*100:.0f}%)',\n",
    "    decision_threshold=best_estimator_threshold,\n",
    "    subfigure_width_ratios=[1.15, 3],\n",
    "    fig_size=(12, 4)\n",
    ")"
   ]
  },
  {
   "cell_type": "markdown",
   "id": "4991f048-4bd4-4ef1-ae44-f08f879bfc14",
   "metadata": {},
   "source": [
    "**Observations**\n",
    "\n",
    "1. As expected from the predicted class imbalance, the distribution of predicted probabilities is right-skewed and a small fraction of customers have a predicted probability above 50% (the tuned classification decision threshold)."
   ]
  },
  {
   "cell_type": "markdown",
   "id": "b316fd06-a09d-41d9-b11c-1250222d8086",
   "metadata": {},
   "source": [
    "## Model Inference"
   ]
  },
  {
   "cell_type": "markdown",
   "id": "992b65be-c51f-4406-8cb1-f7dfbb74ca43",
   "metadata": {},
   "source": [
    "Prepare model for inference using live data in production."
   ]
  },
  {
   "cell_type": "code",
   "execution_count": null,
   "id": "2be5b3a5-c6d0-4f43-b255-41ceafdd3e6d",
   "metadata": {},
   "outputs": [],
   "source": [
    "%%time\n",
    "_, df_all_pred = evaluate_model(\n",
    "    preprocessor,\n",
    "    models[best_estimator],\n",
    "    best_estimator,\n",
    "    X_all,\n",
    "    y_all,\n",
    "    X_all,\n",
    "    y_all,\n",
    "    scorers_eval,\n",
    "    'balanced',\n",
    "    primary_metric=primary_metric_eval,\n",
    "    threshold_overfit=threshold_overfit,\n",
    "    threshold_scoring=best_estimator_threshold,\n",
    ")\n",
    "with pd.option_context('display.max_columns', None):\n",
    "    display(df_all_pred)"
   ]
  },
  {
   "cell_type": "markdown",
   "id": "1d567d9a-52ce-4853-bc70-805e20ec61b3",
   "metadata": {},
   "source": [
    "## Export Project Deliverables to Private R2 Bucket"
   ]
  },
  {
   "cell_type": "markdown",
   "id": "1f6ca25f-d94d-47af-b8cb-ecfc48185465",
   "metadata": {},
   "source": [
    "Get the current timestamp in the format `YYmmdd_HHMMSS`"
   ]
  },
  {
   "cell_type": "code",
   "execution_count": 33,
   "id": "32e239dd-77fc-4209-8e66-0ebf4f396004",
   "metadata": {},
   "outputs": [],
   "source": [
    "curr_timestamp = datetime.now().strftime('%Y%m%d_%H%M%S')"
   ]
  },
  {
   "cell_type": "markdown",
   "id": "1ad944db-bc9b-48e2-bc8a-80e8843d7177",
   "metadata": {},
   "source": [
    "### Data Files with Churn Predictions"
   ]
  },
  {
   "cell_type": "markdown",
   "id": "406378b2-22e3-44e9-87a6-951b38eb094d",
   "metadata": {},
   "source": [
    "The following will be appended to the validation split (`df_val`) and test split (`df_test`)\n",
    "\n",
    "1. ML model predictions (in the `y_pred` column)\n",
    "2. ML model prediction probabilities (in the `y_pred_proba` column)\n",
    "3. name of best model (in the `model_name` column)\n",
    "4. best decision threshold ( in the `best_decision_threshold` column)"
   ]
  },
  {
   "cell_type": "markdown",
   "id": "77b2b752-09ef-489e-bd11-18875f0134d8",
   "metadata": {},
   "source": [
    "#### Validation Split"
   ]
  },
  {
   "cell_type": "markdown",
   "id": "86c69acf-e2ff-43a5-939f-1c72c6698d3a",
   "metadata": {},
   "source": [
    "Append to the validation split (`df_val`)"
   ]
  },
  {
   "cell_type": "code",
   "execution_count": null,
   "id": "4b35575c-e09e-43eb-be8d-d07a04750d0a",
   "metadata": {},
   "outputs": [],
   "source": [
    "%%time\n",
    "df_val_pred = (\n",
    "    df_val_pred\n",
    "    .assign(best_decision_threshold=best_estimator_threshold)\n",
    "    .astype(\n",
    "        {\n",
    "            \"model_name\": 'category',\n",
    "            'best_decision_threshold': 'float64[pyarrow]',\n",
    "        }\n",
    "    )\n",
    "    .astype({k: 'category' for k in list(dtypes_categoricals)})\n",
    ")\n",
    "print(f\"Got {len(df_val_pred):,} rows of validation split predictions\")\n",
    "with pd.option_context('display.max_columns', None):\n",
    "    display(df_val_pred.head())\n",
    "df_val_pred.info(memory_usage='deep')"
   ]
  },
  {
   "cell_type": "markdown",
   "id": "e8c94fcb-1e68-4663-b976-acf529a08246",
   "metadata": {},
   "source": [
    "Next, export to a file in the R2 bucket with the following file name format `validation_predictions__<best-model-name>__<current-timestamp-YYmmdd_HHMMSS>.parquet.gzip`"
   ]
  },
  {
   "cell_type": "code",
   "execution_count": 35,
   "id": "af57343c-b9dc-415a-bb09-a9f1f46f8e18",
   "metadata": {},
   "outputs": [],
   "source": [
    "%%time\n",
    "export_df_to_r2(\n",
    "    df_val_pred,\n",
    "    bucket_name,\n",
    "    (\n",
    "        f\"validation_predictions__{best_estimator.lower()}__\"\n",
    "        f\"{curr_timestamp}.parquet.gzip\"\n",
    "    ),\n",
    ")"
   ]
  },
  {
   "cell_type": "markdown",
   "id": "187758d7-90f4-4dc9-a216-73093c05a70c",
   "metadata": {},
   "source": [
    "#### Test Split"
   ]
  },
  {
   "cell_type": "markdown",
   "id": "5783571b-e6f4-46c2-bff5-75841c0a8653",
   "metadata": {},
   "source": [
    "Append to the test split (`df_test`)"
   ]
  },
  {
   "cell_type": "code",
   "execution_count": null,
   "id": "c58fa717-3a03-4c5d-8111-a5534ecc61ae",
   "metadata": {},
   "outputs": [],
   "source": [
    "%%time\n",
    "df_test_pred = (\n",
    "    df_test_pred\n",
    "    .assign(best_decision_threshold=best_estimator_threshold)\n",
    "    .astype(\n",
    "        {\n",
    "            \"model_name\": 'category',\n",
    "            'best_decision_threshold': 'float64[pyarrow]',\n",
    "        }\n",
    "    )\n",
    "    .astype({k: 'category' for k in list(dtypes_categoricals)})\n",
    ")\n",
    "print(f\"Got {len(df_test_pred):,} rows of validation split predictions\")\n",
    "with pd.option_context('display.max_columns', None):\n",
    "    display(df_test_pred.head())\n",
    "df_test_pred.info(memory_usage='deep')"
   ]
  },
  {
   "cell_type": "markdown",
   "id": "39c3150c-9d8f-429c-9a32-2a7acced6117",
   "metadata": {},
   "source": [
    "Next, export to a file in the R2 bucket with the following file name format `test_predictions__<best-model-name>__<current-timestamp-YYmmdd_HHMMSS>.parquet.gzip`"
   ]
  },
  {
   "cell_type": "code",
   "execution_count": 37,
   "id": "eb9eb94f-9866-4dde-8ee3-c0dfffb71425",
   "metadata": {},
   "outputs": [],
   "source": [
    "# %%time\n",
    "# export_df_to_r2(\n",
    "#     df_test_pred,\n",
    "#     bucket_name,\n",
    "#     (\n",
    "#         f\"test_predictions__{best_estimator.lower()}__\"\n",
    "#         f\"{curr_timestamp}.parquet.gzip\"\n",
    "#     ),\n",
    "# )"
   ]
  },
  {
   "cell_type": "markdown",
   "id": "bbf7c5ac-2294-4dfc-a5b3-40cca9ade2f1",
   "metadata": {},
   "source": [
    "#### All Available Data"
   ]
  },
  {
   "cell_type": "markdown",
   "id": "366ab563-bbc2-46ab-ab42-0eeda5ec8c34",
   "metadata": {},
   "source": [
    "Append to all available data"
   ]
  },
  {
   "cell_type": "code",
   "execution_count": null,
   "id": "16e8a5fa-db86-4d9a-983f-a481a7cb3c72",
   "metadata": {},
   "outputs": [],
   "source": [
    "%%time\n",
    "df_all_pred = (\n",
    "    df_all_pred\n",
    "    .assign(best_decision_threshold=best_estimator_threshold)\n",
    "    .astype(\n",
    "        {\n",
    "            \"model_name\": 'category',\n",
    "            'best_decision_threshold': 'float64[pyarrow]',\n",
    "        }\n",
    "    )\n",
    "    .astype({k: 'category' for k in list(dtypes_categoricals)})\n",
    ")\n",
    "print(f\"Got {len(df_all_pred):,} rows of predictions on all available data\")\n",
    "with pd.option_context('display.max_columns', None):\n",
    "    display(df_all_pred.head())\n",
    "df_all_pred.info(memory_usage='deep')"
   ]
  },
  {
   "cell_type": "markdown",
   "id": "3a09678b-e436-4788-a9df-a65920e8221c",
   "metadata": {},
   "source": [
    "### Best Trained ML Model Object"
   ]
  },
  {
   "cell_type": "markdown",
   "id": "30334cb9-08cc-4a94-bd3b-85d0c7df3eb6",
   "metadata": {},
   "source": [
    "Define pipeline with best model"
   ]
  },
  {
   "cell_type": "code",
   "execution_count": 39,
   "id": "f31dd13b-acbd-4e8a-9117-0623209115ea",
   "metadata": {},
   "outputs": [],
   "source": [
    "pipe_best = Pipeline(\n",
    "    [\n",
    "        (\"pre\", preprocessor),\n",
    "        ('clf', models[best_estimator]),\n",
    "    ]\n",
    ")"
   ]
  },
  {
   "cell_type": "markdown",
   "id": "6ef90ba5-51f3-4bd9-b4e4-130235d0a668",
   "metadata": {},
   "source": [
    "#### Trained on Combined Training and Validataion Data (Train+Validation)"
   ]
  },
  {
   "cell_type": "markdown",
   "id": "d1689838-7986-4672-88b1-b4b92bc07879",
   "metadata": {},
   "source": [
    "Train the best model on the combined training and validation data (`X_train_val` and `y_train_val`)"
   ]
  },
  {
   "cell_type": "code",
   "execution_count": null,
   "id": "f12e2a48-e5b2-417c-8586-1aa6fca49710",
   "metadata": {},
   "outputs": [],
   "source": [
    "%%time\n",
    "pipe_best.fit(X_train_val[features], y_train_val)"
   ]
  },
  {
   "cell_type": "markdown",
   "id": "832eefa0-c134-43b2-b147-81de34e72625",
   "metadata": {},
   "source": [
    "Export to `.joblib` file in R2 bucket"
   ]
  },
  {
   "cell_type": "code",
   "execution_count": 41,
   "id": "39ee6508-5a46-425d-bd22-1ebca38538a7",
   "metadata": {},
   "outputs": [],
   "source": [
    "# %%time\n",
    "# with tempfile.TemporaryFile() as fp:\n",
    "#     # Dump the object to the in-memory file\n",
    "#     joblib.dump(pipe_best, fp)\n",
    "\n",
    "#     # Seek to the beginning of the file before uploading\n",
    "#     fp.seek(0)\n",
    "\n",
    "#     # Upload the in-memory file to our team's R2 bucket\n",
    "#     s3_client.put_object(\n",
    "#         Body=fp.read(),\n",
    "#         Bucket=bucket_name,\n",
    "#         Key=(\n",
    "#             f\"best_model__{best_estimator}__train_val__{curr_timestamp}.joblib\"\n",
    "#         ),\n",
    "#     )"
   ]
  },
  {
   "cell_type": "markdown",
   "id": "f785610d-cabc-4598-806c-978934e2cade",
   "metadata": {},
   "source": [
    "#### Trained on All Available Data (Train+Validation+Test)"
   ]
  },
  {
   "cell_type": "markdown",
   "id": "c020c9ac-0944-432d-9ce5-4d44846fe902",
   "metadata": {},
   "source": [
    "Train the best model on all available data (`X_all` and `y_all`)"
   ]
  },
  {
   "cell_type": "code",
   "execution_count": null,
   "id": "b909be8e-e7d2-40cf-bcb8-625675aeab7f",
   "metadata": {},
   "outputs": [],
   "source": [
    "%%time\n",
    "pipe_best.fit(X_all[features], y_all)"
   ]
  },
  {
   "cell_type": "markdown",
   "id": "823df706-cbb8-493d-9894-c543cdc6d0db",
   "metadata": {},
   "source": [
    "Export to `.joblib` file in R2 bucket"
   ]
  },
  {
   "cell_type": "code",
   "execution_count": 43,
   "id": "a808778c-b1db-4a5b-9f47-aeca7c6b35b1",
   "metadata": {},
   "outputs": [],
   "source": [
    "# %%time\n",
    "# with tempfile.TemporaryFile() as fp:\n",
    "#     # Dump the object to the in-memory file\n",
    "#     joblib.dump(pipe_best, fp)\n",
    "\n",
    "#     # Seek to the beginning of the file before uploading\n",
    "#     fp.seek(0)\n",
    "\n",
    "#     # Upload the in-memory file to our team's R2 bucket\n",
    "#     s3_client.put_object(\n",
    "#         Body=fp.read(),\n",
    "#         Bucket=bucket_name,\n",
    "#         Key=(\n",
    "#             f\"best_model__{best_estimator}__all__{curr_timestamp}.joblib\"\n",
    "#         ),\n",
    "#     )"
   ]
  },
  {
   "cell_type": "code",
   "execution_count": 44,
   "id": "76cf981a-e6e2-4c98-b39e-7fb78cb49cad",
   "metadata": {},
   "outputs": [],
   "source": [
    "# %%time\n",
    "# df_costs_val, _, _ = costs.get_cost(\n",
    "#     df_val_pred,\n",
    "#     best_estimator_threshold,\n",
    "#     interchange_rate,\n",
    "#     apr,\n",
    "#     card_fees,\n",
    "#     multiplier,\n",
    "#     success_rate,\n",
    "#     intervention_cost,\n",
    "# )\n",
    "# with pd.option_context('display.max_columns', None):\n",
    "#     display(df_costs_val)\n",
    "\n",
    "# vzu.plot_roi_curves(\n",
    "#     df_costs_val['n'],\n",
    "#     df_costs_val['cum_true_savings'],\n",
    "#     df_costs_val['cum_pred_savings'],\n",
    "#     df_costs_val['ROI_percent'],\n",
    "#     df_costs_val['ROI_percent_pred'],\n",
    "#     {},\n",
    "#     ptitle=(\n",
    "#         'Excluding initial Noisy Period, ROI is Maximized after Selecting Top '\n",
    "#         '~190 At-Risk Customers'\n",
    "#     ),\n",
    "#     legend_loc='lower right',\n",
    "#     xlabel=f\"Number of Predicted Churners to Contact (Top-N)\",\n",
    "#     ylabel=\"Expected Net Savings ($)\",\n",
    "#     fig_size=(12, 8),\n",
    "# )"
   ]
  }
 ],
 "metadata": {
  "kernelspec": {
   "display_name": "Python 3 (ipykernel)",
   "language": "python",
   "name": "python3"
  },
  "language_info": {
   "codemirror_mode": {
    "name": "ipython",
    "version": 3
   },
   "file_extension": ".py",
   "mimetype": "text/x-python",
   "name": "python",
   "nbconvert_exporter": "python",
   "pygments_lexer": "ipython3",
   "version": "3.12.10"
  }
 },
 "nbformat": 4,
 "nbformat_minor": 5
}
