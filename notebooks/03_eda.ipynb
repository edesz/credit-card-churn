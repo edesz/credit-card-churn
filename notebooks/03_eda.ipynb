{
 "cells": [
  {
   "cell_type": "markdown",
   "id": "886d79b1-72c1-45c2-bb1b-a1f78bc39308",
   "metadata": {},
   "source": [
    "# Exploratory Data Analysis"
   ]
  },
  {
   "cell_type": "code",
   "execution_count": 1,
   "id": "248def37-917c-4ff6-8a0d-b78f6e1d77a9",
   "metadata": {},
   "outputs": [],
   "source": [
    "import os\n",
    "from io import BytesIO, StringIO\n",
    "from pathlib import Path\n",
    "\n",
    "import boto3\n",
    "import botocore.exceptions\n",
    "import numpy as np\n",
    "import matplotlib.pyplot as plt\n",
    "import pandas as pd\n",
    "from dotenv import load_dotenv\n",
    "import seaborn as sns"
   ]
  },
  {
   "cell_type": "code",
   "execution_count": 2,
   "id": "868c341e-6bb0-47b7-9b63-c95ab615ae20",
   "metadata": {},
   "outputs": [],
   "source": [
    "PROJ_ROOT = Path.cwd().parent"
   ]
  },
  {
   "cell_type": "code",
   "execution_count": 3,
   "id": "0d0e93ef-2cf9-4828-8b14-5cd578523c38",
   "metadata": {},
   "outputs": [],
   "source": [
    "assert load_dotenv(dotenv_path=PROJ_ROOT.parent / '.env')"
   ]
  },
  {
   "cell_type": "markdown",
   "id": "9b37d61b-43d1-4f23-884b-0d5a99a0b407",
   "metadata": {},
   "source": [
    "## About"
   ]
  },
  {
   "cell_type": "markdown",
   "id": "76ee218e-7547-4003-95b5-732830761042",
   "metadata": {},
   "source": [
    "Exploratory data analysis on the training data."
   ]
  },
  {
   "cell_type": "markdown",
   "id": "7bedc6e6-aba1-4839-a8ac-a70cca5e3b8f",
   "metadata": {},
   "source": [
    "## User Inputs"
   ]
  },
  {
   "cell_type": "code",
   "execution_count": 4,
   "id": "c314bc8f-ade6-4ab2-9b1f-1a6952d09615",
   "metadata": {},
   "outputs": [],
   "source": [
    "# R2 data bucket details\n",
    "bucket_name = 'cc-churn-splits'\n",
    "# # name of train data key (file) in private R2 bucket\n",
    "r2_key_train = 'train_data.parquet.gzip'"
   ]
  },
  {
   "cell_type": "code",
   "execution_count": 5,
   "id": "99dd2cbd-1195-4cb7-a118-a0a78ac2d117",
   "metadata": {},
   "outputs": [],
   "source": [
    "models_dir = PROJ_ROOT / 'models'\n",
    "figures_dir = models_dir / 'figures'\n",
    "\n",
    "account_id = os.getenv('ACCOUNT_ID')\n",
    "access_key_id = os.getenv('ACCESS_KEY_ID_USER2')\n",
    "secret_access_key = os.getenv('SECRET_ACCESS_KEY_USER2')\n",
    "\n",
    "s3_client = boto3.client(\n",
    "    's3',\n",
    "    endpoint_url=f'https://{account_id}.r2.cloudflarestorage.com',\n",
    "    aws_access_key_id=access_key_id,\n",
    "    aws_secret_access_key=secret_access_key,\n",
    "    region_name='auto'\n",
    ")"
   ]
  },
  {
   "cell_type": "code",
   "execution_count": 6,
   "id": "cc11a037-7889-4362-b6eb-1fade6322d30",
   "metadata": {},
   "outputs": [],
   "source": [
    "def pandas_read_parquet_r2(bucket_name, r2_key):\n",
    "    \"\"\"Read parquet file from private R2 bucket.\"\"\"\n",
    "    s3_object = s3_client.get_object(Bucket=bucket_name, Key=r2_key)\n",
    "    df = pd.read_parquet(\n",
    "        BytesIO(s3_object['Body'].read()), dtype_backend='pyarrow'\n",
    "    )\n",
    "    return df\n",
    "\n",
    "\n",
    "def save_fig(fig, fig_dir, name):\n",
    "    fig.savefig(f\"{fig_dir}/{name}.png\", dpi=144, bbox_inches=\"tight\")"
   ]
  },
  {
   "cell_type": "markdown",
   "id": "541ca09e-588f-4644-9c2e-1dafe7a851cd",
   "metadata": {},
   "source": [
    "## Load Data"
   ]
  },
  {
   "cell_type": "markdown",
   "id": "2e51e938-4728-43dc-a1b6-a0887bfaefbb",
   "metadata": {},
   "source": [
    "Load the training data"
   ]
  },
  {
   "cell_type": "code",
   "execution_count": 7,
   "id": "5c9104d8-365f-4d85-b78f-bfe976b282cc",
   "metadata": {},
   "outputs": [
    {
     "data": {
      "text/html": [
       "<div>\n",
       "<style scoped>\n",
       "    .dataframe tbody tr th:only-of-type {\n",
       "        vertical-align: middle;\n",
       "    }\n",
       "\n",
       "    .dataframe tbody tr th {\n",
       "        vertical-align: top;\n",
       "    }\n",
       "\n",
       "    .dataframe thead th {\n",
       "        text-align: right;\n",
       "    }\n",
       "</style>\n",
       "<table border=\"1\" class=\"dataframe\">\n",
       "  <thead>\n",
       "    <tr style=\"text-align: right;\">\n",
       "      <th></th>\n",
       "      <th>clientnum</th>\n",
       "      <th>is_churned</th>\n",
       "      <th>customer_age</th>\n",
       "      <th>gender</th>\n",
       "      <th>dependent_count</th>\n",
       "      <th>education_level</th>\n",
       "      <th>marital_status</th>\n",
       "      <th>income_category</th>\n",
       "      <th>card_category</th>\n",
       "      <th>months_on_book</th>\n",
       "      <th>num_products</th>\n",
       "      <th>months_inactive_12_mon</th>\n",
       "      <th>contacts_count_12_mon</th>\n",
       "      <th>credit_limit</th>\n",
       "      <th>total_revolv_bal</th>\n",
       "      <th>avg_open_to_buy</th>\n",
       "      <th>total_amt_chng_q4_q1</th>\n",
       "      <th>total_trans_amt</th>\n",
       "      <th>total_trans_ct</th>\n",
       "      <th>total_ct_chng_q4_q1</th>\n",
       "      <th>avg_utilization_ratio</th>\n",
       "    </tr>\n",
       "  </thead>\n",
       "  <tbody>\n",
       "    <tr>\n",
       "      <th>0</th>\n",
       "      <td>710115108</td>\n",
       "      <td>0</td>\n",
       "      <td>45</td>\n",
       "      <td>F</td>\n",
       "      <td>2</td>\n",
       "      <td>Graduate</td>\n",
       "      <td>Unknown</td>\n",
       "      <td>$40K - $60K</td>\n",
       "      <td>Blue</td>\n",
       "      <td>37</td>\n",
       "      <td>5</td>\n",
       "      <td>2</td>\n",
       "      <td>3</td>\n",
       "      <td>5562.0</td>\n",
       "      <td>1556.0</td>\n",
       "      <td>4006.0</td>\n",
       "      <td>0.751</td>\n",
       "      <td>4568.0</td>\n",
       "      <td>76</td>\n",
       "      <td>0.767</td>\n",
       "      <td>0.28</td>\n",
       "    </tr>\n",
       "    <tr>\n",
       "      <th>1</th>\n",
       "      <td>713668158</td>\n",
       "      <td>1</td>\n",
       "      <td>31</td>\n",
       "      <td>F</td>\n",
       "      <td>1</td>\n",
       "      <td>Uneducated</td>\n",
       "      <td>Single</td>\n",
       "      <td>Unknown</td>\n",
       "      <td>Blue</td>\n",
       "      <td>36</td>\n",
       "      <td>2</td>\n",
       "      <td>3</td>\n",
       "      <td>3</td>\n",
       "      <td>21067.0</td>\n",
       "      <td>0.0</td>\n",
       "      <td>21067.0</td>\n",
       "      <td>0.995</td>\n",
       "      <td>9212.0</td>\n",
       "      <td>71</td>\n",
       "      <td>0.821</td>\n",
       "      <td>0.0</td>\n",
       "    </tr>\n",
       "    <tr>\n",
       "      <th>2</th>\n",
       "      <td>710180958</td>\n",
       "      <td>0</td>\n",
       "      <td>43</td>\n",
       "      <td>M</td>\n",
       "      <td>3</td>\n",
       "      <td>High School</td>\n",
       "      <td>Single</td>\n",
       "      <td>$40K - $60K</td>\n",
       "      <td>Blue</td>\n",
       "      <td>33</td>\n",
       "      <td>5</td>\n",
       "      <td>2</td>\n",
       "      <td>3</td>\n",
       "      <td>3040.0</td>\n",
       "      <td>2517.0</td>\n",
       "      <td>523.0</td>\n",
       "      <td>0.493</td>\n",
       "      <td>1598.0</td>\n",
       "      <td>31</td>\n",
       "      <td>0.476</td>\n",
       "      <td>0.828</td>\n",
       "    </tr>\n",
       "    <tr>\n",
       "      <th>3</th>\n",
       "      <td>711204483</td>\n",
       "      <td>1</td>\n",
       "      <td>56</td>\n",
       "      <td>M</td>\n",
       "      <td>4</td>\n",
       "      <td>High School</td>\n",
       "      <td>Married</td>\n",
       "      <td>$60K - $80K</td>\n",
       "      <td>Blue</td>\n",
       "      <td>46</td>\n",
       "      <td>3</td>\n",
       "      <td>3</td>\n",
       "      <td>3</td>\n",
       "      <td>2340.0</td>\n",
       "      <td>1930.0</td>\n",
       "      <td>410.0</td>\n",
       "      <td>0.987</td>\n",
       "      <td>781.0</td>\n",
       "      <td>15</td>\n",
       "      <td>0.364</td>\n",
       "      <td>0.825</td>\n",
       "    </tr>\n",
       "    <tr>\n",
       "      <th>4</th>\n",
       "      <td>712797258</td>\n",
       "      <td>0</td>\n",
       "      <td>43</td>\n",
       "      <td>M</td>\n",
       "      <td>3</td>\n",
       "      <td>Graduate</td>\n",
       "      <td>Married</td>\n",
       "      <td>$120K +</td>\n",
       "      <td>Blue</td>\n",
       "      <td>33</td>\n",
       "      <td>3</td>\n",
       "      <td>1</td>\n",
       "      <td>3</td>\n",
       "      <td>34516.0</td>\n",
       "      <td>2129.0</td>\n",
       "      <td>32387.0</td>\n",
       "      <td>0.587</td>\n",
       "      <td>1463.0</td>\n",
       "      <td>38</td>\n",
       "      <td>0.583</td>\n",
       "      <td>0.062</td>\n",
       "    </tr>\n",
       "    <tr>\n",
       "      <th>...</th>\n",
       "      <td>...</td>\n",
       "      <td>...</td>\n",
       "      <td>...</td>\n",
       "      <td>...</td>\n",
       "      <td>...</td>\n",
       "      <td>...</td>\n",
       "      <td>...</td>\n",
       "      <td>...</td>\n",
       "      <td>...</td>\n",
       "      <td>...</td>\n",
       "      <td>...</td>\n",
       "      <td>...</td>\n",
       "      <td>...</td>\n",
       "      <td>...</td>\n",
       "      <td>...</td>\n",
       "      <td>...</td>\n",
       "      <td>...</td>\n",
       "      <td>...</td>\n",
       "      <td>...</td>\n",
       "      <td>...</td>\n",
       "      <td>...</td>\n",
       "    </tr>\n",
       "    <tr>\n",
       "      <th>6977</th>\n",
       "      <td>710844408</td>\n",
       "      <td>0</td>\n",
       "      <td>38</td>\n",
       "      <td>M</td>\n",
       "      <td>3</td>\n",
       "      <td>Post-Graduate</td>\n",
       "      <td>Married</td>\n",
       "      <td>$60K - $80K</td>\n",
       "      <td>Blue</td>\n",
       "      <td>36</td>\n",
       "      <td>4</td>\n",
       "      <td>3</td>\n",
       "      <td>2</td>\n",
       "      <td>2584.0</td>\n",
       "      <td>0.0</td>\n",
       "      <td>2584.0</td>\n",
       "      <td>0.593</td>\n",
       "      <td>1843.0</td>\n",
       "      <td>28</td>\n",
       "      <td>0.647</td>\n",
       "      <td>0.0</td>\n",
       "    </tr>\n",
       "    <tr>\n",
       "      <th>6978</th>\n",
       "      <td>711994458</td>\n",
       "      <td>0</td>\n",
       "      <td>47</td>\n",
       "      <td>F</td>\n",
       "      <td>4</td>\n",
       "      <td>High School</td>\n",
       "      <td>Married</td>\n",
       "      <td>Unknown</td>\n",
       "      <td>Blue</td>\n",
       "      <td>39</td>\n",
       "      <td>6</td>\n",
       "      <td>4</td>\n",
       "      <td>0</td>\n",
       "      <td>1537.0</td>\n",
       "      <td>0.0</td>\n",
       "      <td>1537.0</td>\n",
       "      <td>0.712</td>\n",
       "      <td>4234.0</td>\n",
       "      <td>75</td>\n",
       "      <td>0.786</td>\n",
       "      <td>0.0</td>\n",
       "    </tr>\n",
       "    <tr>\n",
       "      <th>6979</th>\n",
       "      <td>712914783</td>\n",
       "      <td>0</td>\n",
       "      <td>43</td>\n",
       "      <td>M</td>\n",
       "      <td>5</td>\n",
       "      <td>Graduate</td>\n",
       "      <td>Single</td>\n",
       "      <td>$40K - $60K</td>\n",
       "      <td>Blue</td>\n",
       "      <td>31</td>\n",
       "      <td>4</td>\n",
       "      <td>1</td>\n",
       "      <td>2</td>\n",
       "      <td>7564.0</td>\n",
       "      <td>0.0</td>\n",
       "      <td>7564.0</td>\n",
       "      <td>0.61</td>\n",
       "      <td>4743.0</td>\n",
       "      <td>82</td>\n",
       "      <td>0.822</td>\n",
       "      <td>0.0</td>\n",
       "    </tr>\n",
       "    <tr>\n",
       "      <th>6980</th>\n",
       "      <td>719694408</td>\n",
       "      <td>1</td>\n",
       "      <td>30</td>\n",
       "      <td>F</td>\n",
       "      <td>1</td>\n",
       "      <td>College</td>\n",
       "      <td>Single</td>\n",
       "      <td>Less than $40K</td>\n",
       "      <td>Blue</td>\n",
       "      <td>36</td>\n",
       "      <td>4</td>\n",
       "      <td>3</td>\n",
       "      <td>6</td>\n",
       "      <td>4541.0</td>\n",
       "      <td>0.0</td>\n",
       "      <td>4541.0</td>\n",
       "      <td>0.976</td>\n",
       "      <td>7996.0</td>\n",
       "      <td>80</td>\n",
       "      <td>0.778</td>\n",
       "      <td>0.0</td>\n",
       "    </tr>\n",
       "    <tr>\n",
       "      <th>6981</th>\n",
       "      <td>721001883</td>\n",
       "      <td>0</td>\n",
       "      <td>41</td>\n",
       "      <td>M</td>\n",
       "      <td>3</td>\n",
       "      <td>Uneducated</td>\n",
       "      <td>Married</td>\n",
       "      <td>$60K - $80K</td>\n",
       "      <td>Blue</td>\n",
       "      <td>30</td>\n",
       "      <td>3</td>\n",
       "      <td>1</td>\n",
       "      <td>2</td>\n",
       "      <td>1950.0</td>\n",
       "      <td>1618.0</td>\n",
       "      <td>332.0</td>\n",
       "      <td>0.75</td>\n",
       "      <td>3357.0</td>\n",
       "      <td>47</td>\n",
       "      <td>0.88</td>\n",
       "      <td>0.83</td>\n",
       "    </tr>\n",
       "  </tbody>\n",
       "</table>\n",
       "<p>6982 rows × 21 columns</p>\n",
       "</div>"
      ],
      "text/plain": [
       "      clientnum  is_churned  customer_age gender  dependent_count  \\\n",
       "0     710115108           0            45      F                2   \n",
       "1     713668158           1            31      F                1   \n",
       "2     710180958           0            43      M                3   \n",
       "3     711204483           1            56      M                4   \n",
       "4     712797258           0            43      M                3   \n",
       "...         ...         ...           ...    ...              ...   \n",
       "6977  710844408           0            38      M                3   \n",
       "6978  711994458           0            47      F                4   \n",
       "6979  712914783           0            43      M                5   \n",
       "6980  719694408           1            30      F                1   \n",
       "6981  721001883           0            41      M                3   \n",
       "\n",
       "     education_level marital_status income_category card_category  \\\n",
       "0           Graduate        Unknown     $40K - $60K          Blue   \n",
       "1         Uneducated         Single         Unknown          Blue   \n",
       "2        High School         Single     $40K - $60K          Blue   \n",
       "3        High School        Married     $60K - $80K          Blue   \n",
       "4           Graduate        Married         $120K +          Blue   \n",
       "...              ...            ...             ...           ...   \n",
       "6977   Post-Graduate        Married     $60K - $80K          Blue   \n",
       "6978     High School        Married         Unknown          Blue   \n",
       "6979        Graduate         Single     $40K - $60K          Blue   \n",
       "6980         College         Single  Less than $40K          Blue   \n",
       "6981      Uneducated        Married     $60K - $80K          Blue   \n",
       "\n",
       "      months_on_book  num_products  months_inactive_12_mon  \\\n",
       "0                 37             5                       2   \n",
       "1                 36             2                       3   \n",
       "2                 33             5                       2   \n",
       "3                 46             3                       3   \n",
       "4                 33             3                       1   \n",
       "...              ...           ...                     ...   \n",
       "6977              36             4                       3   \n",
       "6978              39             6                       4   \n",
       "6979              31             4                       1   \n",
       "6980              36             4                       3   \n",
       "6981              30             3                       1   \n",
       "\n",
       "      contacts_count_12_mon  credit_limit  total_revolv_bal  avg_open_to_buy  \\\n",
       "0                         3        5562.0            1556.0           4006.0   \n",
       "1                         3       21067.0               0.0          21067.0   \n",
       "2                         3        3040.0            2517.0            523.0   \n",
       "3                         3        2340.0            1930.0            410.0   \n",
       "4                         3       34516.0            2129.0          32387.0   \n",
       "...                     ...           ...               ...              ...   \n",
       "6977                      2        2584.0               0.0           2584.0   \n",
       "6978                      0        1537.0               0.0           1537.0   \n",
       "6979                      2        7564.0               0.0           7564.0   \n",
       "6980                      6        4541.0               0.0           4541.0   \n",
       "6981                      2        1950.0            1618.0            332.0   \n",
       "\n",
       "      total_amt_chng_q4_q1  total_trans_amt  total_trans_ct  \\\n",
       "0                    0.751           4568.0              76   \n",
       "1                    0.995           9212.0              71   \n",
       "2                    0.493           1598.0              31   \n",
       "3                    0.987            781.0              15   \n",
       "4                    0.587           1463.0              38   \n",
       "...                    ...              ...             ...   \n",
       "6977                 0.593           1843.0              28   \n",
       "6978                 0.712           4234.0              75   \n",
       "6979                  0.61           4743.0              82   \n",
       "6980                 0.976           7996.0              80   \n",
       "6981                  0.75           3357.0              47   \n",
       "\n",
       "      total_ct_chng_q4_q1  avg_utilization_ratio  \n",
       "0                   0.767                   0.28  \n",
       "1                   0.821                    0.0  \n",
       "2                   0.476                  0.828  \n",
       "3                   0.364                  0.825  \n",
       "4                   0.583                  0.062  \n",
       "...                   ...                    ...  \n",
       "6977                0.647                    0.0  \n",
       "6978                0.786                    0.0  \n",
       "6979                0.822                    0.0  \n",
       "6980                0.778                    0.0  \n",
       "6981                 0.88                   0.83  \n",
       "\n",
       "[6982 rows x 21 columns]"
      ]
     },
     "metadata": {},
     "output_type": "display_data"
    },
    {
     "name": "stdout",
     "output_type": "stream",
     "text": [
      "<class 'pandas.core.frame.DataFrame'>\n",
      "RangeIndex: 6982 entries, 0 to 6981\n",
      "Data columns (total 21 columns):\n",
      " #   Column                  Non-Null Count  Dtype                                                      \n",
      "---  ------                  --------------  -----                                                      \n",
      " 0   clientnum               6982 non-null   int32[pyarrow]                                             \n",
      " 1   is_churned              6982 non-null   int8[pyarrow]                                              \n",
      " 2   customer_age            6982 non-null   int8[pyarrow]                                              \n",
      " 3   gender                  6982 non-null   string                                                     \n",
      " 4   dependent_count         6982 non-null   int8[pyarrow]                                              \n",
      " 5   education_level         6982 non-null   dictionary<values=string, indices=int8, ordered=0>[pyarrow]\n",
      " 6   marital_status          6982 non-null   string                                                     \n",
      " 7   income_category         6982 non-null   string                                                     \n",
      " 8   card_category           6982 non-null   string                                                     \n",
      " 9   months_on_book          6982 non-null   int16[pyarrow]                                             \n",
      " 10  num_products            6982 non-null   int16[pyarrow]                                             \n",
      " 11  months_inactive_12_mon  6982 non-null   int16[pyarrow]                                             \n",
      " 12  contacts_count_12_mon   6982 non-null   int16[pyarrow]                                             \n",
      " 13  credit_limit            6982 non-null   double[pyarrow]                                            \n",
      " 14  total_revolv_bal        6982 non-null   double[pyarrow]                                            \n",
      " 15  avg_open_to_buy         6982 non-null   double[pyarrow]                                            \n",
      " 16  total_amt_chng_q4_q1    6982 non-null   double[pyarrow]                                            \n",
      " 17  total_trans_amt         6982 non-null   double[pyarrow]                                            \n",
      " 18  total_trans_ct          6982 non-null   int16[pyarrow]                                             \n",
      " 19  total_ct_chng_q4_q1     6982 non-null   double[pyarrow]                                            \n",
      " 20  avg_utilization_ratio   6982 non-null   double[pyarrow]                                            \n",
      "dtypes: dictionary<values=string, indices=int8, ordered=0>[pyarrow](1), double[pyarrow](7), int16[pyarrow](5), int32[pyarrow](1), int8[pyarrow](3), string(4)\n",
      "memory usage: 888.7 KB\n",
      "CPU times: user 136 ms, sys: 17.9 ms, total: 154 ms\n",
      "Wall time: 259 ms\n"
     ]
    }
   ],
   "source": [
    "%%time\n",
    "df_clean = (\n",
    "    pandas_read_parquet_r2(bucket_name, r2_key_train)\n",
    "    .astype(\n",
    "        {\n",
    "            \"gender\": 'string[pyarrow]',\n",
    "            \"marital_status\": 'string[pyarrow]',\n",
    "            \"income_category\": 'string[pyarrow]',\n",
    "            \"card_category\": 'string[pyarrow]',\n",
    "        }\n",
    "    )\n",
    ")\n",
    "with pd.option_context('display.max_columns', None):\n",
    "    display(df_clean)"
   ]
  },
  {
   "cell_type": "markdown",
   "id": "3b68432c-5c7e-40ae-9ffc-d4132d9cfa94",
   "metadata": {},
   "source": [
    "## Clean Data"
   ]
  },
  {
   "cell_type": "markdown",
   "id": "f295e5aa-408a-49f7-956a-e6749b44514f",
   "metadata": {},
   "source": [
    "### Handling Missing or Unknown Values"
   ]
  },
  {
   "cell_type": "markdown",
   "id": "094c77c9-bda4-497a-9b4b-d60703e02213",
   "metadata": {},
   "source": [
    "Several categorical columns, like Education_Level, Marital_Status, and Income_Category, contained the value \"Unknown\". This is a placeholder for missing or unavailable data. We replaced these with NaN to treat them as missing values properly. This allows us to later apply imputation techniques to fill them in appropriately. Treating unknowns as real values can distort model behavior, so identifying them as missing is a crucial cleaning step."
   ]
  },
  {
   "cell_type": "code",
   "execution_count": 8,
   "id": "3a376003-923f-4f15-89d0-116e4428f33c",
   "metadata": {},
   "outputs": [],
   "source": [
    "categorical_cols = [\"education_level\", \"marital_status\", \"income_category\"]\n",
    "df_clean[categorical_cols] = df_clean[categorical_cols].replace(\"Unknown\", pd.NA)"
   ]
  },
  {
   "cell_type": "markdown",
   "id": "dbd766d5-6a91-4938-a390-c10bc005091e",
   "metadata": {},
   "source": [
    "### Encoding Categorical Variables"
   ]
  },
  {
   "cell_type": "markdown",
   "id": "3f890499-ab9d-4108-8369-0c8c5502128f",
   "metadata": {},
   "source": [
    "Machine learning models require all features to be numeric. I handled categorical data in two ways:\n",
    "\n",
    "**Ordinal Encoding for Education_Level:** Since education has a natural order (e.g., High School < Graduate < Doctorate), we mapped it to integers from 0 to 5.\n",
    "\n",
    "**One-Hot Encoding for Other Categories:** For nominal variables like Gender, Marital_Status, Income_Category, and Card_Category, we used one-hot encoding. This creates separate binary columns for each category, allowing the model to treat them independently without assuming any order.\n",
    "\n",
    "This transformation makes the data fully numeric and model-friendly."
   ]
  },
  {
   "cell_type": "code",
   "execution_count": 9,
   "id": "a0c342ca-f22d-4500-8bce-19ce782fe9bb",
   "metadata": {},
   "outputs": [],
   "source": [
    "education_map = {\n",
    "    \"Uneducated\": 0,\n",
    "    \"High School\": 1,\n",
    "    \"College\": 2,\n",
    "    \"Graduate\": 3,\n",
    "    \"Post-Graduate\": 4,\n",
    "    \"Doctorate\": 5\n",
    "}\n",
    "df_clean[\"education_level\"] = df_clean[\"education_level\"].map(education_map)"
   ]
  },
  {
   "cell_type": "markdown",
   "id": "5b42d914-5a4f-4e9e-8393-d5e484b24e71",
   "metadata": {},
   "source": [
    "One-hot encode other categorical variables (without Education_Level)"
   ]
  },
  {
   "cell_type": "code",
   "execution_count": 10,
   "id": "2075c223-69dd-4f49-93de-15fec6fc23e7",
   "metadata": {},
   "outputs": [],
   "source": [
    "df_clean_encoded = pd.get_dummies(df_clean, columns=[\"gender\", \"marital_status\", \"income_category\", \"card_category\"], drop_first=True)"
   ]
  },
  {
   "cell_type": "markdown",
   "id": "e6cb8352-176b-4e3a-b7f7-67d6582d0220",
   "metadata": {},
   "source": [
    "#### Numeric Columns"
   ]
  },
  {
   "cell_type": "markdown",
   "id": "8686b944-0af4-418f-b08e-1ec4c06be994",
   "metadata": {},
   "source": [
    "Leaving numeric columns as they are"
   ]
  },
  {
   "cell_type": "markdown",
   "id": "ce4b5acb-ac85-4a0d-b117-3f52ac28537a",
   "metadata": {},
   "source": [
    "All dummy columns are already 0/1 integers."
   ]
  },
  {
   "cell_type": "code",
   "execution_count": 11,
   "id": "cb49dc71-5bac-4c08-b869-d22b8c04dd69",
   "metadata": {},
   "outputs": [
    {
     "data": {
      "text/plain": [
       "(boolean            10\n",
       " double[pyarrow]     7\n",
       " int16[pyarrow]      5\n",
       " int8[pyarrow]       3\n",
       " int32[pyarrow]      1\n",
       " float64             1\n",
       " Name: count, dtype: int64,\n",
       "    clientnum  is_churned  customer_age  dependent_count  education_level  \\\n",
       " 0  710115108           0            45                2              3.0   \n",
       " 1  713668158           1            31                1              0.0   \n",
       " 2  710180958           0            43                3              1.0   \n",
       " 3  711204483           1            56                4              1.0   \n",
       " 4  712797258           0            43                3              3.0   \n",
       " \n",
       "    months_on_book  num_products  months_inactive_12_mon  \\\n",
       " 0              37             5                       2   \n",
       " 1              36             2                       3   \n",
       " 2              33             5                       2   \n",
       " 3              46             3                       3   \n",
       " 4              33             3                       1   \n",
       " \n",
       "    contacts_count_12_mon  credit_limit  ...  gender_M  marital_status_Married  \\\n",
       " 0                      3        5562.0  ...     False                   False   \n",
       " 1                      3       21067.0  ...     False                   False   \n",
       " 2                      3        3040.0  ...      True                   False   \n",
       " 3                      3        2340.0  ...      True                    True   \n",
       " 4                      3       34516.0  ...      True                    True   \n",
       " \n",
       "    marital_status_Single  income_category_$40K - $60K  \\\n",
       " 0                  False                         True   \n",
       " 1                   True                        False   \n",
       " 2                   True                         True   \n",
       " 3                  False                        False   \n",
       " 4                  False                        False   \n",
       " \n",
       "    income_category_$60K - $80K  income_category_$80K - $120K  \\\n",
       " 0                        False                         False   \n",
       " 1                        False                         False   \n",
       " 2                        False                         False   \n",
       " 3                         True                         False   \n",
       " 4                        False                         False   \n",
       " \n",
       "    income_category_Less than $40K  card_category_Gold  card_category_Platinum  \\\n",
       " 0                           False               False                   False   \n",
       " 1                           False               False                   False   \n",
       " 2                           False               False                   False   \n",
       " 3                           False               False                   False   \n",
       " 4                           False               False                   False   \n",
       " \n",
       "    card_category_Silver  \n",
       " 0                 False  \n",
       " 1                 False  \n",
       " 2                 False  \n",
       " 3                 False  \n",
       " 4                 False  \n",
       " \n",
       " [5 rows x 27 columns])"
      ]
     },
     "execution_count": 11,
     "metadata": {},
     "output_type": "execute_result"
    }
   ],
   "source": [
    "df_clean_encoded.dtypes.value_counts(), df_clean_encoded.head()"
   ]
  },
  {
   "cell_type": "markdown",
   "id": "ebd095a5-09cb-4cc2-afb6-11a809f05017",
   "metadata": {},
   "source": [
    "Ensuring every boolean column becomes integer 0/1"
   ]
  },
  {
   "cell_type": "code",
   "execution_count": 12,
   "id": "2c099d62-486f-4161-981a-5c4577d41a6a",
   "metadata": {},
   "outputs": [],
   "source": [
    "for col in df_clean_encoded.columns:\n",
    "    if df_clean_encoded[col].dtype == \"bool\":\n",
    "        df_clean_encoded[col] = df_clean_encoded[col].astype(int)"
   ]
  },
  {
   "cell_type": "markdown",
   "id": "b2987f2e-73c6-4a04-a88e-d7b9925fa3ed",
   "metadata": {},
   "source": [
    "Double checking all dtypes"
   ]
  },
  {
   "cell_type": "code",
   "execution_count": 13,
   "id": "edc74b63-4840-4a15-9d94-764c723c5312",
   "metadata": {},
   "outputs": [
    {
     "data": {
      "text/plain": [
       "boolean            10\n",
       "double[pyarrow]     7\n",
       "int16[pyarrow]      5\n",
       "int8[pyarrow]       3\n",
       "int32[pyarrow]      1\n",
       "float64             1\n",
       "Name: count, dtype: int64"
      ]
     },
     "execution_count": 13,
     "metadata": {},
     "output_type": "execute_result"
    }
   ],
   "source": [
    "df_clean_encoded.dtypes.value_counts()"
   ]
  },
  {
   "cell_type": "markdown",
   "id": "8630e0cc-0555-41c5-9352-e60b1c7286a6",
   "metadata": {},
   "source": [
    "## Exploratory Data Analysis"
   ]
  },
  {
   "cell_type": "markdown",
   "id": "ca2481f2-02b8-441b-af53-76af7f3a0dc1",
   "metadata": {},
   "source": [
    "Separate features from target"
   ]
  },
  {
   "cell_type": "code",
   "execution_count": 14,
   "id": "707dfafb-d617-4738-a604-07d257cb3acd",
   "metadata": {},
   "outputs": [],
   "source": [
    "X = df_clean_encoded.drop(columns=['is_churned'])\n",
    "y = df_clean_encoded['is_churned']"
   ]
  },
  {
   "cell_type": "markdown",
   "id": "f0f0ea87-02c1-4197-9ce7-f826d76e1c59",
   "metadata": {},
   "source": [
    "### Churn Distribution"
   ]
  },
  {
   "cell_type": "code",
   "execution_count": 15,
   "id": "bd80ebb3-8d7c-401a-a9fb-9b16823aa5bf",
   "metadata": {},
   "outputs": [
    {
     "data": {
      "image/png": "[encoded data removed]",
      "text/plain": [
       "<Figure size 600x400 with 1 Axes>"
      ]
     },
     "metadata": {},
     "output_type": "display_data"
    }
   ],
   "source": [
    "counts = y.value_counts().sort_index()\n",
    "labels = [0, 1]\n",
    "\n",
    "fig, ax = plt.subplots(figsize=(6,4))\n",
    "bars = ax.bar(labels, counts.values, color=[\"skyblue\",\"salmon\"])\n",
    "ax.set_title(\"Churn Distribution\")\n",
    "ax.set_ylabel(\"Count\")\n",
    "\n",
    "# Add the counts above each bar\n",
    "for bar in bars:\n",
    "    height = bar.get_height()\n",
    "    ax.text(bar.get_x() + bar.get_width()/2, height, str(height),\n",
    "            ha=\"center\", va=\"bottom\", fontsize=10)\n",
    "\n",
    "plt.show()\n",
    "# save_fig(fig, figures_dir, \"01_churn_distribution_colored\")"
   ]
  },
  {
   "cell_type": "markdown",
   "id": "4fe842a8-0180-429f-866b-2c1733736871",
   "metadata": {},
   "source": [
    "### Customer Age Distribution"
   ]
  },
  {
   "cell_type": "markdown",
   "id": "4dc738ee-1143-466d-ba67-fdbd63dbe0c7",
   "metadata": {},
   "source": [
    "Creating a histogram with 20 bins to show how customers are spread across different ages.\n",
    "\n",
    "Any missing values are dropped to avoid errors, and then plot the counts of customers on the y-axis against their ages on the x-axis."
   ]
  },
  {
   "cell_type": "code",
   "execution_count": 16,
   "id": "cf30eea5-1ec0-45ce-af2b-c3877f9499f5",
   "metadata": {},
   "outputs": [
    {
     "data": {
      "image/png": "[encoded data removed]",
      "text/plain": [
       "<Figure size 600x400 with 1 Axes>"
      ]
     },
     "metadata": {},
     "output_type": "display_data"
    }
   ],
   "source": [
    "plt.figure(figsize=(6,4))\n",
    "sns.histplot(X[\"customer_age\"], bins=20, kde=True, color=\"skyblue\")\n",
    "plt.title(\"Customer Age Distribution\")\n",
    "plt.xlabel(\"Age\")\n",
    "plt.ylabel(\"Count\")\n",
    "plt.show()"
   ]
  },
  {
   "cell_type": "markdown",
   "id": "36c21d93-ef38-4b4c-8ca7-a76d94c55c9d",
   "metadata": {},
   "source": [
    "### Gender vs Churn"
   ]
  },
  {
   "cell_type": "code",
   "execution_count": 17,
   "id": "cdfa1a06-f054-4abf-a5d8-9baf637e637f",
   "metadata": {},
   "outputs": [
    {
     "data": {
      "image/png": "[encoded data removed]",
      "text/plain": [
       "<Figure size 640x480 with 1 Axes>"
      ]
     },
     "metadata": {},
     "output_type": "display_data"
    }
   ],
   "source": [
    "if \"gender_M\" in df_clean_encoded.columns:\n",
    "    # Recreate Gender column (assumes binary M/F)\n",
    "    gender_series = np.where(df_clean_encoded[\"gender_M\"] == 1, \"M\", \"F\")\n",
    "    ct = pd.crosstab(gender_series, df_clean_encoded[\"is_churned\"])\n",
    "\n",
    "    fig, ax = plt.subplots()\n",
    "    bars = ct.plot(kind=\"bar\", stacked=True, ax=ax, legend=True)\n",
    "\n",
    "    ax.set_title(\"Gender vs Churn\")\n",
    "    ax.set_xlabel(\"Gender\")\n",
    "    ax.set_ylabel(\"Count\")\n",
    "\n",
    "    # Add the exact numbers on each stacked segment\n",
    "    for container in ax.containers:\n",
    "        ax.bar_label(container, label_type=\"center\")\n",
    "\n",
    "    plt.show()\n",
    "    # save_fig(fig, figures_dir, \"03_gender_vs_churn_numbers\")"
   ]
  },
  {
   "cell_type": "markdown",
   "id": "fcdcd1ab-2e1f-4080-abb0-acdd6e28e6cd",
   "metadata": {},
   "source": [
    "### Correlation with Churn"
   ]
  },
  {
   "cell_type": "markdown",
   "id": "30709d60-cde3-4430-ba51-141d38514c5e",
   "metadata": {},
   "source": [
    "It calculates the correlation of each numeric feature with the target `Churn` and displays them in a horizontal bar chart, highlighting which variables are most linked to customer attrition."
   ]
  },
  {
   "cell_type": "code",
   "execution_count": 18,
   "id": "91252257-f250-4e99-88c4-b578ecc5a1a3",
   "metadata": {},
   "outputs": [
    {
     "data": {
      "image/png": "[encoded data removed]",
      "text/plain": [
       "<Figure size 600x600 with 1 Axes>"
      ]
     },
     "metadata": {},
     "output_type": "display_data"
    }
   ],
   "source": [
    "num_df = df_clean_encoded.select_dtypes(include=[np.number])\n",
    "if \"is_churned\" in num_df.columns:\n",
    "    corr_with_target = num_df.corr()[\"is_churned\"].drop(\"is_churned\").sort_values()\n",
    "    fig, ax = plt.subplots(figsize=(6,6))\n",
    "    corr_with_target.plot(kind=\"barh\", ax=ax)\n",
    "    ax.set_title(\"Correlation with Churn\")\n",
    "    plt.show()\n",
    "    # save_fig(fig, figures_dir, \"05_corr_with_churn\")"
   ]
  }
 ],
 "metadata": {
  "kernelspec": {
   "display_name": "Python 3 (ipykernel)",
   "language": "python",
   "name": "python3"
  },
  "language_info": {
   "codemirror_mode": {
    "name": "ipython",
    "version": 3
   },
   "file_extension": ".py",
   "mimetype": "text/x-python",
   "name": "python",
   "nbconvert_exporter": "python",
   "pygments_lexer": "ipython3",
   "version": "3.12.10"
  }
 },
 "nbformat": 4,
 "nbformat_minor": 5
}
