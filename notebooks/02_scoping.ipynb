{
 "cells": [
  {
   "cell_type": "markdown",
   "id": "f8098b4c-e0d0-483d-8468-f053e24a47cd",
   "metadata": {},
   "source": [
    "# Scoping"
   ]
  },
  {
   "cell_type": "code",
   "execution_count": 1,
   "id": "96b101fa-0786-4750-8eae-93107d26baeb",
   "metadata": {},
   "outputs": [],
   "source": [
    "import os\n",
    "from io import BytesIO, StringIO\n",
    "from pathlib import Path\n",
    "\n",
    "import boto3\n",
    "import botocore.exceptions\n",
    "import pandas as pd\n",
    "from dotenv import load_dotenv"
   ]
  },
  {
   "cell_type": "code",
   "execution_count": 2,
   "id": "81be18b7-2ed0-4151-babf-454627bfb8c4",
   "metadata": {},
   "outputs": [],
   "source": [
    "PROJ_ROOT = Path.cwd().parent"
   ]
  },
  {
   "cell_type": "code",
   "execution_count": 3,
   "id": "9e27b808-5f05-4fc6-b748-dd078a70695a",
   "metadata": {},
   "outputs": [],
   "source": [
    "assert load_dotenv(dotenv_path=PROJ_ROOT.parent / '.env')"
   ]
  },
  {
   "cell_type": "markdown",
   "id": "6f486ec7-215c-495f-8c78-9567afbf69cc",
   "metadata": {},
   "source": [
    "## About"
   ]
  },
  {
   "cell_type": "markdown",
   "id": "528de745-4a70-4ba6-bb32-93445209c099",
   "metadata": {},
   "source": [
    "Project scoping using the full random sample of data for ~10,000 customers from McMaster Bank."
   ]
  },
  {
   "cell_type": "markdown",
   "id": "073d1b15-ea0a-48d2-827f-27ab744a8f72",
   "metadata": {},
   "source": [
    "## User Inputs"
   ]
  },
  {
   "cell_type": "code",
   "execution_count": 4,
   "id": "fbd6089d-3793-42d4-85f0-a3070feae209",
   "metadata": {},
   "outputs": [],
   "source": [
    "# R2 data bucket details\n",
    "bucket_name = 'cc-churn-splits'\n",
    "\n",
    "# columns to load for project scoping tasks\n",
    "columns = [\n",
    "    'clientnum',\n",
    "    'card_category',\n",
    "    'total_revolv_bal',\n",
    "    'total_trans_amt',\n",
    "    'is_churned',\n",
    "]\n",
    "\n",
    "# costs\n",
    "# # revenue from transactions (bank earns #% of transaction volume)\n",
    "interchange_rate = 0.02\n",
    "# # revenue from revolving balance (~20% interest)\n",
    "apr = 0.18\n",
    "# # fee revenue from credit card exposure (modeled from card type)\n",
    "card_fees = {\"Blue\": 0, \"Silver\": 50, \"Gold\": 100, \"Platinum\": 200}\n",
    "tenure_years = 3\n",
    "discount = 0.9\n",
    "# # percentage of churners who can be convinced to stay (i.e. success rate\n",
    "# # of saving a churning customer)\n",
    "success_rate = 0.40\n",
    "# # cost of intervention to get a single customer to not churn (discounts,\n",
    "# # call center time, retention offers, etc.)\n",
    "intervention_cost = 50\n",
    "# # cost of acquiring a new customer (Customer Acquisition Cost, CAC)\n",
    "replacement_cost = 200"
   ]
  },
  {
   "cell_type": "code",
   "execution_count": 5,
   "id": "a6ba8e4a-d9da-4197-842d-588c187fd0e8",
   "metadata": {},
   "outputs": [],
   "source": [
    "account_id = os.getenv('ACCOUNT_ID')\n",
    "access_key_id = os.getenv('ACCESS_KEY_ID')\n",
    "secret_access_key = os.getenv('SECRET_ACCESS_KEY')\n",
    "\n",
    "s3_client = boto3.client(\n",
    "    's3',\n",
    "    endpoint_url=f'https://{account_id}.r2.cloudflarestorage.com',\n",
    "    aws_access_key_id=access_key_id,\n",
    "    aws_secret_access_key=secret_access_key,\n",
    "    region_name='auto'\n",
    ")\n",
    "\n",
    "multiplier = (1 - discount**tenure_years) / (1 - discount)"
   ]
  },
  {
   "cell_type": "markdown",
   "id": "145c1a7d-6b76-4c65-a635-72bdd4fb4dc9",
   "metadata": {},
   "source": [
    "## Load Data"
   ]
  },
  {
   "cell_type": "code",
   "execution_count": null,
   "id": "306435a0-2e44-4e57-bcf5-0c63ccc8a971",
   "metadata": {},
   "outputs": [],
   "source": [
    "%%time\n",
    "prefix = ''\n",
    "dfs = []\n",
    "response = s3_client.list_objects_v2(Bucket=bucket_name, Prefix=prefix)\n",
    "for obj in response.get('Contents', []):\n",
    "    if (\n",
    "        not obj['Key'].endswith('/')\n",
    "        and '/' not in obj['Key'][len(prefix):]\n",
    "        and obj['Key'].endswith('_data.parquet.gzip')\n",
    "    ):\n",
    "        obj = s3_client.get_object(Bucket=bucket_name, Key=obj['Key'])\n",
    "        df = pd.read_parquet(BytesIO(obj['Body'].read()), columns=columns)\n",
    "        dfs.append(df)\n",
    "df = pd.concat(dfs, ignore_index=True).astype({\"is_churned\": 'bool[pyarrow]'})\n",
    "df"
   ]
  },
  {
   "cell_type": "markdown",
   "id": "83f10f0d-013d-4b93-8996-e14e9c65279e",
   "metadata": {},
   "source": [
    "## Calculate Impact of Churn"
   ]
  },
  {
   "cell_type": "markdown",
   "id": "3d792ded-c356-486f-bbba-4d3c83410886",
   "metadata": {},
   "source": [
    "Calculate customer lifetime value (CLV)"
   ]
  },
  {
   "cell_type": "code",
   "execution_count": null,
   "id": "7c0b2328-5c91-479a-a448-7f5c3281be7e",
   "metadata": {},
   "outputs": [],
   "source": [
    "%%time\n",
    "df = df.assign(\n",
    "    interchange_rev=lambda df: df[\"total_trans_amt\"] * interchange_rate,\n",
    "    interest_rev=lambda df: df[\"total_revolv_bal\"] * apr,\n",
    "    fee_rev=lambda df: (\n",
    "        df[\"card_category\"].map(card_fees).astype('int16[pyarrow]')\n",
    "    ),\n",
    "    annual_rev=lambda df: (\n",
    "        df[\"interchange_rev\"] + df[\"interest_rev\"] + df[\"fee_rev\"]\n",
    "    ),\n",
    "    clv=lambda df: df[\"annual_rev\"] * multiplier,\n",
    "    intervention_cost=intervention_cost,\n",
    ")\n",
    "df"
   ]
  },
  {
   "cell_type": "markdown",
   "id": "0fb9400e-c4a3-408f-8087-fd2ed74ace73",
   "metadata": {},
   "source": [
    "The class imbalance is shown below"
   ]
  },
  {
   "cell_type": "code",
   "execution_count": 8,
   "id": "ec613fb1-b6ea-45b3-8ac9-bf3f69705c13",
   "metadata": {},
   "outputs": [
    {
     "data": {
      "text/html": [
       "<div>\n",
       "<style scoped>\n",
       "    .dataframe tbody tr th:only-of-type {\n",
       "        vertical-align: middle;\n",
       "    }\n",
       "\n",
       "    .dataframe tbody tr th {\n",
       "        vertical-align: top;\n",
       "    }\n",
       "\n",
       "    .dataframe thead th {\n",
       "        text-align: right;\n",
       "    }\n",
       "</style>\n",
       "<table border=\"1\" class=\"dataframe\">\n",
       "  <thead>\n",
       "    <tr style=\"text-align: right;\">\n",
       "      <th></th>\n",
       "      <th>is_churned</th>\n",
       "      <th>proportion</th>\n",
       "    </tr>\n",
       "  </thead>\n",
       "  <tbody>\n",
       "    <tr>\n",
       "      <th>0</th>\n",
       "      <td>False</td>\n",
       "      <td>83.934038</td>\n",
       "    </tr>\n",
       "    <tr>\n",
       "      <th>1</th>\n",
       "      <td>True</td>\n",
       "      <td>16.065962</td>\n",
       "    </tr>\n",
       "  </tbody>\n",
       "</table>\n",
       "</div>"
      ],
      "text/plain": [
       "  is_churned  proportion\n",
       "0      False   83.934038\n",
       "1       True   16.065962"
      ]
     },
     "execution_count": 8,
     "metadata": {},
     "output_type": "execute_result"
    }
   ],
   "source": [
    "df['is_churned'].value_counts(normalize=True).mul(100).reset_index()"
   ]
  },
  {
   "cell_type": "markdown",
   "id": "cbfbf20e-b38d-4d0b-a029-19cc712a82a1",
   "metadata": {},
   "source": [
    "**Observaitons**\n",
    "\n",
    "1. Credit card churn is observed in 16% of customers. This is\n",
    "   - **just below** the [industry average churn rate for the financial sector of 19%](https://billingplatform.com/blog/average-churn-rate-by-industry)\n",
    "   - below the [standard for high credit card churn of 25-30%](https://uxpressia.com/blog/how-to-approach-customer-churn-measurement-in-banking)"
   ]
  },
  {
   "cell_type": "markdown",
   "id": "6a15c4da-cd66-43ce-a9e6-cb5efbf77497",
   "metadata": {},
   "source": [
    "The total number of customers and total Customer Lifetime Value (CLV) are shown below for churned and existing customers"
   ]
  },
  {
   "cell_type": "code",
   "execution_count": 9,
   "id": "aead09e4-3327-4c95-80ee-3befe8e0f984",
   "metadata": {},
   "outputs": [
    {
     "name": "stdout",
     "output_type": "stream",
     "text": [
      "CPU times: user 6.42 ms, sys: 40 μs, total: 6.46 ms\n",
      "Wall time: 5.54 ms\n"
     ]
    },
    {
     "data": {
      "text/html": [
       "<div>\n",
       "<style scoped>\n",
       "    .dataframe tbody tr th:only-of-type {\n",
       "        vertical-align: middle;\n",
       "    }\n",
       "\n",
       "    .dataframe tbody tr th {\n",
       "        vertical-align: top;\n",
       "    }\n",
       "\n",
       "    .dataframe thead th {\n",
       "        text-align: right;\n",
       "    }\n",
       "</style>\n",
       "<table border=\"1\" class=\"dataframe\">\n",
       "  <thead>\n",
       "    <tr style=\"text-align: right;\">\n",
       "      <th></th>\n",
       "      <th>is_churned</th>\n",
       "      <th>clv_total</th>\n",
       "      <th>num_customers</th>\n",
       "      <th>clf_fraction</th>\n",
       "      <th>clv_per_customer</th>\n",
       "    </tr>\n",
       "  </thead>\n",
       "  <tbody>\n",
       "    <tr>\n",
       "      <th>0</th>\n",
       "      <td>False</td>\n",
       "      <td>7452624.118</td>\n",
       "      <td>8500</td>\n",
       "      <td>90.01784</td>\n",
       "      <td>876.779308</td>\n",
       "    </tr>\n",
       "    <tr>\n",
       "      <th>1</th>\n",
       "      <td>True</td>\n",
       "      <td>826428.2668</td>\n",
       "      <td>1627</td>\n",
       "      <td>9.98216</td>\n",
       "      <td>507.946077</td>\n",
       "    </tr>\n",
       "  </tbody>\n",
       "</table>\n",
       "</div>"
      ],
      "text/plain": [
       "  is_churned    clv_total  num_customers  clf_fraction  clv_per_customer\n",
       "0      False  7452624.118           8500      90.01784        876.779308\n",
       "1       True  826428.2668           1627       9.98216        507.946077"
      ]
     },
     "execution_count": 9,
     "metadata": {},
     "output_type": "execute_result"
    }
   ],
   "source": [
    "%%time\n",
    "df_attrition_stats = (\n",
    "    df\n",
    "    .groupby('is_churned')\n",
    "    .agg({'clv': ['sum', 'count']})\n",
    "    .set_axis(['clv_total', 'num_customers'], axis=1)\n",
    "    .reset_index()\n",
    "    .assign(\n",
    "        clf_fraction=lambda df: (\n",
    "            (df['clv_total']/df['clv_total'].sum()).mul(100)\n",
    "        ),\n",
    "        clv_per_customer=lambda df: df['clv_total']/df['num_customers'],\n",
    "    )\n",
    ")\n",
    "df_attrition_stats"
   ]
  },
  {
   "cell_type": "markdown",
   "id": "3eaeaf55-776b-4c93-9681-2c183db39413",
   "metadata": {},
   "source": [
    "One common way to calculate the customer churn impact is to calculate the lost CLV per churned customer and add the replacement cost (CAC). The average CAC for a credit card customer is approximately [167](https://firstpagesage.com/seo-blog/average-customer-acquisition-cost-cac-in-banking/) USD or ~200 CAD. The total impact of churn is estimated below for sample of data provided by McMaster Bank"
   ]
  },
  {
   "cell_type": "code",
   "execution_count": 10,
   "id": "f0f7bea8-9ed6-4765-a718-4d3af2b83777",
   "metadata": {},
   "outputs": [
    {
     "data": {
      "text/html": [
       "<div>\n",
       "<style scoped>\n",
       "    .dataframe tbody tr th:only-of-type {\n",
       "        vertical-align: middle;\n",
       "    }\n",
       "\n",
       "    .dataframe tbody tr th {\n",
       "        vertical-align: top;\n",
       "    }\n",
       "\n",
       "    .dataframe thead th {\n",
       "        text-align: right;\n",
       "    }\n",
       "</style>\n",
       "<table border=\"1\" class=\"dataframe\">\n",
       "  <thead>\n",
       "    <tr style=\"text-align: right;\">\n",
       "      <th></th>\n",
       "      <th>is_churned</th>\n",
       "      <th>clv_total</th>\n",
       "      <th>num_customers</th>\n",
       "      <th>clf_fraction</th>\n",
       "      <th>clv_per_customer</th>\n",
       "      <th>impact_per_customer</th>\n",
       "      <th>impact_total</th>\n",
       "    </tr>\n",
       "  </thead>\n",
       "  <tbody>\n",
       "    <tr>\n",
       "      <th>0</th>\n",
       "      <td>False</td>\n",
       "      <td>7452624.118</td>\n",
       "      <td>8500</td>\n",
       "      <td>90.01784</td>\n",
       "      <td>876.779308</td>\n",
       "      <td>1076.779308</td>\n",
       "      <td>9152624.118</td>\n",
       "    </tr>\n",
       "    <tr>\n",
       "      <th>1</th>\n",
       "      <td>True</td>\n",
       "      <td>826428.2668</td>\n",
       "      <td>1627</td>\n",
       "      <td>9.98216</td>\n",
       "      <td>507.946077</td>\n",
       "      <td>707.946077</td>\n",
       "      <td>1151828.2668</td>\n",
       "    </tr>\n",
       "  </tbody>\n",
       "</table>\n",
       "</div>"
      ],
      "text/plain": [
       "  is_churned    clv_total  num_customers  clf_fraction  clv_per_customer  \\\n",
       "0      False  7452624.118           8500      90.01784        876.779308   \n",
       "1       True  826428.2668           1627       9.98216        507.946077   \n",
       "\n",
       "   impact_per_customer  impact_total  \n",
       "0          1076.779308   9152624.118  \n",
       "1           707.946077  1151828.2668  "
      ]
     },
     "execution_count": 10,
     "metadata": {},
     "output_type": "execute_result"
    }
   ],
   "source": [
    "(\n",
    "    df_attrition_stats\n",
    "    .reset_index(drop=True)\n",
    "    .assign(\n",
    "        impact_per_customer=lambda df: df['clv_per_customer']+replacement_cost,\n",
    "        impact_total=lambda df: (\n",
    "            df['clv_total']+df['num_customers'].mul(replacement_cost)\n",
    "        ),\n",
    "    )\n",
    ")"
   ]
  },
  {
   "cell_type": "markdown",
   "id": "731d2bf7-5d37-4646-b1e2-e3e69ccd41e1",
   "metadata": {},
   "source": [
    "**Observations**\n",
    "\n",
    "1. Approximately 10% of customer lifetime value is lost due to the 16% churn rate over the past 12 months in the random sample of customer data. The impact to the client (i.e. to the bank's credit card division) is a loss of approximately 508 dollars of customer lifetime value (per customer). When the cost to acquire a new customer is taken into account this adds up to a loss of 708 dollars per customer, or 1,151,828 dollars overall, due to churn."
   ]
  },
  {
   "cell_type": "markdown",
   "id": "c2b4838b-c76a-4823-a728-21ca895709aa",
   "metadata": {},
   "source": [
    "The CLV of retained customers is shown below"
   ]
  },
  {
   "cell_type": "code",
   "execution_count": 11,
   "id": "c25c9fd2-35e8-4eaf-9db7-769234a44b7d",
   "metadata": {},
   "outputs": [
    {
     "data": {
      "text/html": [
       "<div>\n",
       "<style scoped>\n",
       "    .dataframe tbody tr th:only-of-type {\n",
       "        vertical-align: middle;\n",
       "    }\n",
       "\n",
       "    .dataframe tbody tr th {\n",
       "        vertical-align: top;\n",
       "    }\n",
       "\n",
       "    .dataframe thead th {\n",
       "        text-align: right;\n",
       "    }\n",
       "</style>\n",
       "<table border=\"1\" class=\"dataframe\">\n",
       "  <thead>\n",
       "    <tr style=\"text-align: right;\">\n",
       "      <th></th>\n",
       "      <th>is_churned</th>\n",
       "      <th>clv_total</th>\n",
       "      <th>num_customers</th>\n",
       "      <th>clf_fraction</th>\n",
       "      <th>clv_per_customer</th>\n",
       "    </tr>\n",
       "  </thead>\n",
       "  <tbody>\n",
       "    <tr>\n",
       "      <th>0</th>\n",
       "      <td>False</td>\n",
       "      <td>7452624.118</td>\n",
       "      <td>8500</td>\n",
       "      <td>90.01784</td>\n",
       "      <td>876.779308</td>\n",
       "    </tr>\n",
       "  </tbody>\n",
       "</table>\n",
       "</div>"
      ],
      "text/plain": [
       "  is_churned    clv_total  num_customers  clf_fraction  clv_per_customer\n",
       "0      False  7452624.118           8500      90.01784        876.779308"
      ]
     },
     "execution_count": 11,
     "metadata": {},
     "output_type": "execute_result"
    }
   ],
   "source": [
    "df_attrition_stats.query(\"is_churned == False\").reset_index(drop=True)"
   ]
  },
  {
   "cell_type": "markdown",
   "id": "5340fbe3-8048-4890-b306-23f069729ebc",
   "metadata": {},
   "source": [
    "**Observations**\n",
    "\n",
    "1. The CLV is **just above** the [industry standard for credit card customers of $808](https://focus-digital.co/average-customer-lifetime-value-for-financial-services/)."
   ]
  }
 ],
 "metadata": {
  "kernelspec": {
   "display_name": "Python 3 (ipykernel)",
   "language": "python",
   "name": "python3"
  },
  "language_info": {
   "codemirror_mode": {
    "name": "ipython",
    "version": 3
   },
   "file_extension": ".py",
   "mimetype": "text/x-python",
   "name": "python",
   "nbconvert_exporter": "python",
   "pygments_lexer": "ipython3",
   "version": "3.12.10"
  }
 },
 "nbformat": 4,
 "nbformat_minor": 5
}
